{
 "cells": [
  {
   "cell_type": "markdown",
   "metadata": {},
   "source": [
    "### 1) Create an array containing 4 string elements: your first name, your last name, your birth state and your favorite color.\n",
    "#### a. Use a numpy function to make all elements uppercase.\n",
    "#### b. Use a numpy function to count the number of times the letter “a” appears in each element of your array.\n",
    "#### c. Optional: Use a numpy function to find the length of each element in the array. You may need to Google this.\n",
    "\n",
    "### 2) Create an array containing EVERY OTHER odd number starting with 1 and ending with (and including) 41.\n",
    "#### a. Use numpy to find the sum and the product of the elements of this array. NOTE: This will require you to convert the elements of your array to floats using the astype method.\n",
    "#### b. Use numpy to take the natural log of each element.\n",
    "#### c. Optional: The numpy function np.diff finds the difference between adjacent elements of an array. Find the SUM of adjacent elements of this array."
   ]
  },
  {
   "cell_type": "code",
   "execution_count": 10,
   "metadata": {},
   "outputs": [],
   "source": [
    "import datascience as ds\n",
    "import numpy as np"
   ]
  },
  {
   "cell_type": "code",
   "execution_count": 20,
   "metadata": {},
   "outputs": [
    {
     "data": {
      "text/plain": [
       "array(['ERIK', 'VAN HEGEWALD', 'CO', 'RED'], dtype='<U12')"
      ]
     },
     "execution_count": 20,
     "metadata": {},
     "output_type": "execute_result"
    }
   ],
   "source": [
    "#Create an array containing 4 string elements: your first name, your last name, your birth state and your favorite color.\n",
    "My_Array=ds.make_array(\"Erik\",\"Van Hegewald\",\"CO\",\"Red\")\n",
    "#a. Use a numpy function to make all elements uppercase.\n",
    "UpperArray=np.char.upper(My_Array)"
   ]
  },
  {
   "cell_type": "code",
   "execution_count": 29,
   "metadata": {},
   "outputs": [
    {
     "name": "stdout",
     "output_type": "stream",
     "text": [
      "Amount of times \"a\" appears in each element: [0 2 0 0]\n",
      "Length of strings: [4, 12, 2, 3]\n"
     ]
    }
   ],
   "source": [
    "#b. Use a numpy function to count the number of times the letter “a” appears in each element of your array.\n",
    "CountA=np.char.count(My_Array,\"a\")\n",
    "print('Amount of times \"a\" appears in each element:',CountA)\n",
    "#Optional: Use a numpy function to find the length of each element in the array. You may need to Google this.\n",
    "Length=[len(i) for i in My_Array]\n",
    "print(\"Length of strings:\",Length)"
   ]
  },
  {
   "cell_type": "code",
   "execution_count": 65,
   "metadata": {},
   "outputs": [
    {
     "data": {
      "text/plain": [
       "array([ 1,  5,  9, 13, 17, 21, 25, 29, 33, 37, 41])"
      ]
     },
     "execution_count": 65,
     "metadata": {},
     "output_type": "execute_result"
    }
   ],
   "source": [
    "#2) Create an array containing EVERY OTHER odd number starting with 1 and ending with (and including) 41.\n",
    "OddArrays=np.arange(1,42,4) #Note, non-inclusive upper bounds where we are going from 1 to 41 (if we leave it at 41, then\n",
    "#python assumes the array ends at 41 and doesn't include it. Henceforth, we use 42, but can use up to 45.)\n",
    "OddArrays"
   ]
  },
  {
   "cell_type": "code",
   "execution_count": 66,
   "metadata": {},
   "outputs": [
    {
     "name": "stdout",
     "output_type": "stream",
     "text": [
      "[  1   6  15  28  45  66  91 120 153 190 231]\n",
      "[            1             5            45           585          9945\n",
      "        208845       5221125     151412625    4996616625  184874815125\n",
      " 7579867420125]\n"
     ]
    }
   ],
   "source": [
    "#a. Use numpy to find the sum and the product of the elements of this array.\n",
    "#NOTE: This will require you to convert the elements of your array to floats using the astype method.\n",
    "SumOddArrays=np.cumsum(OddArrays) #This goes through a sequential process to sum the 1st-> 1st+2nd-> 3rd+2nd+1st->...\n",
    "ProdOddArrays=np.cumprod(OddArrays,dtype='int64')\n",
    "print(SumOddArrays)\n",
    "print(ProdOddArrays)"
   ]
  },
  {
   "cell_type": "code",
   "execution_count": 67,
   "metadata": {},
   "outputs": [
    {
     "data": {
      "text/plain": [
       "[0.0,\n",
       " 1.6094379124341003,\n",
       " 2.1972245773362196,\n",
       " 2.5649493574615367,\n",
       " 2.833213344056216,\n",
       " 3.044522437723423,\n",
       " 3.2188758248682006,\n",
       " 3.367295829986474,\n",
       " 3.4965075614664802,\n",
       " 3.6109179126442243,\n",
       " 3.713572066704308]"
      ]
     },
     "execution_count": 67,
     "metadata": {},
     "output_type": "execute_result"
    }
   ],
   "source": [
    "#b. Use numpy to take the natural log of each element.\n",
    "[np.log(i) for i in OddArrays] #The way to read this is: take the log(element) for elements in Array"
   ]
  },
  {
   "cell_type": "code",
   "execution_count": 68,
   "metadata": {},
   "outputs": [
    {
     "data": {
      "text/plain": [
       "40"
      ]
     },
     "execution_count": 68,
     "metadata": {},
     "output_type": "execute_result"
    }
   ],
   "source": [
    "#c. Optional: The numpy function np.diff finds the difference between adjacent elements of an array.\n",
    "# Find the SUM of adjacent elements of this array.\n",
    "np.sum(np.diff(OddArrays))"
   ]
  },
  {
   "cell_type": "code",
   "execution_count": null,
   "metadata": {},
   "outputs": [],
   "source": []
  }
 ],
 "metadata": {
  "kernelspec": {
   "display_name": "Python 3",
   "language": "python",
   "name": "python3"
  },
  "language_info": {
   "codemirror_mode": {
    "name": "ipython",
    "version": 3
   },
   "file_extension": ".py",
   "mimetype": "text/x-python",
   "name": "python",
   "nbconvert_exporter": "python",
   "pygments_lexer": "ipython3",
   "version": "3.6.5"
  }
 },
 "nbformat": 4,
 "nbformat_minor": 2
}

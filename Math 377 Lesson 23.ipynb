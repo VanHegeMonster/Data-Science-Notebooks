{
 "cells": [
  {
   "cell_type": "code",
   "execution_count": 1,
   "metadata": {},
   "outputs": [],
   "source": [
    "from datascience import *\n",
    "import numpy as np\n",
    "from math import *\n",
    "from scipy import stats\n",
    "import matplotlib.pyplot as plt\n",
    "%matplotlib inline"
   ]
  },
  {
   "cell_type": "markdown",
   "metadata": {},
   "source": [
    "## Lesson 23: Hypothesis Testing, Continued"
   ]
  },
  {
   "cell_type": "markdown",
   "metadata": {},
   "source": [
    "Recall in Lesson 22, we covered hypothesis testing. The structure of a hypothesis test is largely similar regardless of the context of the problem. We state the hypotheses, decide on a test statistic, calculate the $p$-value and reach a conclusion. To calculate a $p$-value, we need to find the distribution of the test statistic under the null hypothesis. "
   ]
  },
  {
   "cell_type": "markdown",
   "metadata": {},
   "source": [
    "### Example 1: The Lady Tasting Tea\n",
    "\n",
    "The \"lady tasting tea\" problem is a now famous story during which, at a gathering one summer afternoon in Cambridge, some friends drank tea with milk. Among them, a woman claimed to be able to tell, based on taste, whether the milk or the tea was added first to the cup. A now famous statistician, Ronald Fisher, was at the gathering, and he studied the claim. The woman was offered 8 cups of tea mixed with milk (4 with milk added first and 4 with tea added first) and she successfully identified 6 (3 of each). What can we say about her ability to discriminate the teas? "
   ]
  },
  {
   "cell_type": "markdown",
   "metadata": {},
   "source": [
    "Step 1: Write the test hypotheses.\n",
    "Null  - the woman successfully identified the tea by chance. \n",
    "Alterntive - the woman was able to successfully determine if milk or tea went first."
   ]
  },
  {
   "cell_type": "markdown",
   "metadata": {},
   "source": [
    "Step 2: Determine a test statistic.\n",
    "She has to get several of them right. |Right answer | shuffle her answers|=> see how many is right"
   ]
  },
  {
   "cell_type": "markdown",
   "metadata": {},
   "source": [
    "Step 3: Determine a distribution of the test statistic."
   ]
  },
  {
   "cell_type": "code",
   "execution_count": 2,
   "metadata": {},
   "outputs": [
    {
     "data": {
      "text/html": [
       "<table border=\"1\" class=\"dataframe\">\n",
       "    <thead>\n",
       "        <tr>\n",
       "            <th>Number Correct</th> <th>count</th>\n",
       "        </tr>\n",
       "    </thead>\n",
       "    <tbody>\n",
       "        <tr>\n",
       "            <td>0             </td> <td>133  </td>\n",
       "        </tr>\n",
       "        <tr>\n",
       "            <td>2             </td> <td>2269 </td>\n",
       "        </tr>\n",
       "        <tr>\n",
       "            <td>4             </td> <td>5131 </td>\n",
       "        </tr>\n",
       "        <tr>\n",
       "            <td>6             </td> <td>2335 </td>\n",
       "        </tr>\n",
       "        <tr>\n",
       "            <td>8             </td> <td>132  </td>\n",
       "        </tr>\n",
       "    </tbody>\n",
       "</table>"
      ],
      "text/plain": [
       "<IPython.core.display.HTML object>"
      ]
     },
     "metadata": {},
     "output_type": "display_data"
    },
    {
     "name": "stderr",
     "output_type": "stream",
     "text": [
      "C:\\Users\\C20KarlErik.VanHegew\\AppData\\Local\\Continuum\\anaconda3\\lib\\site-packages\\matplotlib\\axes\\_axes.py:6462: UserWarning: The 'normed' kwarg is deprecated, and has been replaced by the 'density' kwarg.\n",
      "  warnings.warn(\"The 'normed' kwarg is deprecated, and has been \"\n"
     ]
    },
    {
     "data": {
      "image/png": "[encoded data removed]",
      "text/plain": [
       "<Figure size 432x288 with 1 Axes>"
      ]
     },
     "metadata": {},
     "output_type": "display_data"
    }
   ],
   "source": [
    "TeaTable=Table().with_column('True/False',[1,1,1,1,0,0,0,0])\n",
    "#Now we go through and shuffle her results.\n",
    "numberRight=[]\n",
    "for i in np.arange(10000):\n",
    "    numberRight.append(sum(TeaTable.column('True/False')==TeaTable.sample(k=8,with_replacement=False).column(0)))\n",
    "TableRight=Table().with_column('Number Correct',numberRight)\n",
    "GroupingRight=TableRight.group(0)\n",
    "GroupingRight.show()\n",
    "TableRight.hist(bins=np.arange(0,12, 2))"
   ]
  },
  {
   "cell_type": "markdown",
   "metadata": {},
   "source": [
    "Step 4: make a decision"
   ]
  },
  {
   "cell_type": "code",
   "execution_count": 3,
   "metadata": {},
   "outputs": [
    {
     "data": {
      "text/plain": [
       "0.2467"
      ]
     },
     "execution_count": 3,
     "metadata": {},
     "output_type": "execute_result"
    }
   ],
   "source": [
    "#Calculate p value:\n",
    "pvalue=GroupingRight.where('Number Correct',are.above(4)).column(1).sum()/10000\n",
    "pvalue"
   ]
  },
  {
   "cell_type": "markdown",
   "metadata": {},
   "source": [
    "Given that the p value is much greater than .05, we conclude that the probability she was able to accurately guess 6/8 correct is high enough that we cannot reject the null hypothesis. That is, it's entirely possible she guessed 6/8 correct and does not have the ability to taste test it. "
   ]
  },
  {
   "cell_type": "markdown",
   "metadata": {},
   "source": [
    "### Example 2: iris dataset\n",
    "\n",
    "The `iris` dataset is common in introductory statistics. It shows various characteristics of three different species of irises. Let's determine whether the virginica species has a larger mean sepal width than that of versicolor. "
   ]
  },
  {
   "cell_type": "code",
   "execution_count": 4,
   "metadata": {},
   "outputs": [
    {
     "data": {
      "text/html": [
       "<table border=\"1\" class=\"dataframe\">\n",
       "    <thead>\n",
       "        <tr>\n",
       "            <th>species</th> <th>sepal_length mean</th> <th>sepal_width mean</th> <th>petal_length mean</th> <th>petal_width mean</th>\n",
       "        </tr>\n",
       "    </thead>\n",
       "    <tbody>\n",
       "        <tr>\n",
       "            <td>setosa    </td> <td>5.006            </td> <td>3.418           </td> <td>1.464            </td> <td>0.244           </td>\n",
       "        </tr>\n",
       "        <tr>\n",
       "            <td>versicolor</td> <td>5.936            </td> <td>2.77            </td> <td>4.26             </td> <td>1.326           </td>\n",
       "        </tr>\n",
       "        <tr>\n",
       "            <td>virginica </td> <td>6.588            </td> <td>2.974           </td> <td>5.552            </td> <td>2.026           </td>\n",
       "        </tr>\n",
       "    </tbody>\n",
       "</table>"
      ],
      "text/plain": [
       "species    | sepal_length mean | sepal_width mean | petal_length mean | petal_width mean\n",
       "setosa     | 5.006             | 3.418            | 1.464             | 0.244\n",
       "versicolor | 5.936             | 2.77             | 4.26              | 1.326\n",
       "virginica  | 6.588             | 2.974            | 5.552             | 2.026"
      ]
     },
     "execution_count": 4,
     "metadata": {},
     "output_type": "execute_result"
    }
   ],
   "source": [
    "iris=Table().read_table(\"iris.csv\")\n",
    "iris.group(4,np.mean)"
   ]
  },
  {
   "cell_type": "markdown",
   "metadata": {},
   "source": [
    "Step 1: \n",
    "Alternative: virginica specicies has a larger mean sepal width than that of versicolor.\n",
    "Null: virginica has less than or equal to the mean sepal width of versicolor. "
   ]
  },
  {
   "cell_type": "markdown",
   "metadata": {},
   "source": [
    "Step 2: test statistic is the difference of the averages between versicolor and virginica sepal width.\n",
    "For curiousity we will also find the statistic of the average of the differences."
   ]
  },
  {
   "cell_type": "markdown",
   "metadata": {},
   "source": [
    "Step 3: Determine distribution of test statistic"
   ]
  },
  {
   "cell_type": "code",
   "execution_count": 5,
   "metadata": {
    "scrolled": true
   },
   "outputs": [
    {
     "data": {
      "text/plain": [
       "0.20399999999999974"
      ]
     },
     "execution_count": 5,
     "metadata": {},
     "output_type": "execute_result"
    }
   ],
   "source": [
    "#Difference of the averages\n",
    "iris_sub=iris.select(4,1).where(0,are.not_containing('setosa'))\n",
    "obs=np.diff(iris_sub.group(0,np.mean).column(1))[0]\n",
    "obs"
   ]
  },
  {
   "cell_type": "code",
   "execution_count": 49,
   "metadata": {
    "scrolled": true
   },
   "outputs": [
    {
     "name": "stdout",
     "output_type": "stream",
     "text": [
      "Average of the differences: 0.20400000000000007\n"
     ]
    },
    {
     "data": {
      "text/html": [
       "<table border=\"1\" class=\"dataframe\">\n",
       "    <thead>\n",
       "        <tr>\n",
       "            <th>Versicolor sepal width</th> <th>virginica sepal width</th> <th>versicolor-virginica</th>\n",
       "        </tr>\n",
       "    </thead>\n",
       "    <tbody>\n",
       "        <tr>\n",
       "            <td>3.2                   </td> <td>3.3                  </td> <td>0.1                 </td>\n",
       "        </tr>\n",
       "        <tr>\n",
       "            <td>3.2                   </td> <td>2.7                  </td> <td>-0.5                </td>\n",
       "        </tr>\n",
       "        <tr>\n",
       "            <td>3.1                   </td> <td>3                    </td> <td>-0.1                </td>\n",
       "        </tr>\n",
       "        <tr>\n",
       "            <td>2.3                   </td> <td>2.9                  </td> <td>0.6                 </td>\n",
       "        </tr>\n",
       "        <tr>\n",
       "            <td>2.8                   </td> <td>3                    </td> <td>0.2                 </td>\n",
       "        </tr>\n",
       "        <tr>\n",
       "            <td>2.8                   </td> <td>3                    </td> <td>0.2                 </td>\n",
       "        </tr>\n",
       "        <tr>\n",
       "            <td>3.3                   </td> <td>2.5                  </td> <td>-0.8                </td>\n",
       "        </tr>\n",
       "        <tr>\n",
       "            <td>2.4                   </td> <td>2.9                  </td> <td>0.5                 </td>\n",
       "        </tr>\n",
       "        <tr>\n",
       "            <td>2.9                   </td> <td>2.5                  </td> <td>-0.4                </td>\n",
       "        </tr>\n",
       "        <tr>\n",
       "            <td>2.7                   </td> <td>3.6                  </td> <td>0.9                 </td>\n",
       "        </tr>\n",
       "    </tbody>\n",
       "</table>\n",
       "<p>... (40 rows omitted)</p>"
      ],
      "text/plain": [
       "Versicolor sepal width | virginica sepal width | versicolor-virginica\n",
       "3.2                    | 3.3                   | 0.1\n",
       "3.2                    | 2.7                   | -0.5\n",
       "3.1                    | 3                     | -0.1\n",
       "2.3                    | 2.9                   | 0.6\n",
       "2.8                    | 3                     | 0.2\n",
       "2.8                    | 3                     | 0.2\n",
       "3.3                    | 2.5                   | -0.8\n",
       "2.4                    | 2.9                   | 0.5\n",
       "2.9                    | 2.5                   | -0.4\n",
       "2.7                    | 3.6                   | 0.9\n",
       "... (40 rows omitted)"
      ]
     },
     "execution_count": 49,
     "metadata": {},
     "output_type": "execute_result"
    }
   ],
   "source": [
    "#Average of the differences\n",
    "Side_data=iris_sub.where(0,are.not_containing('versicolor'))\n",
    "Versicolor_data=iris_sub.where(0,are.not_containing('virginica'))\n",
    "Side_data=Side_data.with_column('Flower name',Versicolor_data.column(0)).with_column('Versicolor sepal width',Versicolor_data.column(1))\n",
    "Side_data.relabel('sepal_width','virginica sepal width')\n",
    "Table_of_widths=Side_data.select('Versicolor sepal width','virginica sepal width')\n",
    "Table_with_diffs=Table_of_widths.with_column('versicolor-virginica',Table_of_widths.column(1)-Table_of_widths.column(0))\n",
    "print('Average of the differences:',np.mean(Table_with_diffs.column(2)))\n",
    "Table_with_diffs"
   ]
  },
  {
   "cell_type": "markdown",
   "metadata": {},
   "source": [
    "Based on the above average of the differences, we should expect after numerous simulations, if the null were true, we should expect the mean of the differences to be greater than 0."
   ]
  },
  {
   "cell_type": "code",
   "execution_count": 8,
   "metadata": {},
   "outputs": [
    {
     "name": "stderr",
     "output_type": "stream",
     "text": [
      "C:\\Users\\C20KarlErik.VanHegew\\AppData\\Local\\Continuum\\anaconda3\\lib\\site-packages\\matplotlib\\axes\\_axes.py:6462: UserWarning: The 'normed' kwarg is deprecated, and has been replaced by the 'density' kwarg.\n",
      "  warnings.warn(\"The 'normed' kwarg is deprecated, and has been \"\n"
     ]
    },
    {
     "data": {
      "image/png": "[encoded data removed]",
      "text/plain": [
       "<Figure size 432x288 with 1 Axes>"
      ]
     },
     "metadata": {},
     "output_type": "display_data"
    }
   ],
   "source": [
    "Means=[]\n",
    "for i in np.arange(1000):\n",
    "    shuffledVirgin=Table_of_widths.select('virginica sepal width').sample(k=Table_of_widths.num_rows,with_replacement=True)\n",
    "    Differences=(Versicolor_data.column(1)-shuffledVirgin.column(0))*-1\n",
    "    AverageDifference=np.mean(Differences)\n",
    "    Means.append(AverageDifference)\n",
    "Table().with_column('Averages',Means).hist()"
   ]
  },
  {
   "cell_type": "code",
   "execution_count": 9,
   "metadata": {},
   "outputs": [
    {
     "data": {
      "text/plain": [
       "0.508"
      ]
     },
     "execution_count": 9,
     "metadata": {},
     "output_type": "execute_result"
    }
   ],
   "source": [
    "np.count_nonzero(np.array(Means)>=.204)/1000"
   ]
  },
  {
   "cell_type": "markdown",
   "metadata": {},
   "source": [
    "Now we are going to try shuffling both of the columns instead of just one."
   ]
  },
  {
   "cell_type": "code",
   "execution_count": 56,
   "metadata": {},
   "outputs": [
    {
     "name": "stderr",
     "output_type": "stream",
     "text": [
      "C:\\Users\\C20KarlErik.VanHegew\\AppData\\Local\\Continuum\\anaconda3\\lib\\site-packages\\matplotlib\\axes\\_axes.py:6462: UserWarning: The 'normed' kwarg is deprecated, and has been replaced by the 'density' kwarg.\n",
      "  warnings.warn(\"The 'normed' kwarg is deprecated, and has been \"\n"
     ]
    },
    {
     "data": {
      "image/png": "[encoded data removed]",
      "text/plain": [
       "<Figure size 432x288 with 1 Axes>"
      ]
     },
     "metadata": {},
     "output_type": "display_data"
    }
   ],
   "source": [
    "Means=[]\n",
    "for i in np.arange(100000):\n",
    "    shuffledVirgin=Table_of_widths.select('virginica sepal width').sample(k=Table_of_widths.num_rows,with_replacement=True)\n",
    "    shuffledVersicolor=Table_of_widths.select('Versicolor sepal width').sample(k=Table_of_widths.num_rows,with_replacement=True)\n",
    "    Differences=(shuffledVersicolor.column(0)-shuffledVirgin.column(0))*-1\n",
    "    AverageDifference=np.mean(Differences)\n",
    "    Means.append(AverageDifference)\n",
    "Table().with_column('Averages',Means).hist()"
   ]
  },
  {
   "cell_type": "code",
   "execution_count": 60,
   "metadata": {},
   "outputs": [
    {
     "name": "stdout",
     "output_type": "stream",
     "text": [
      "Probability of getting greater than or equal to .204 average difference: 50.344\n"
     ]
    },
    {
     "data": {
      "text/plain": [
       "0.043"
      ]
     },
     "execution_count": 60,
     "metadata": {},
     "output_type": "execute_result"
    }
   ],
   "source": [
    "print('Probability of getting greater than or equal to .204 average difference:',np.count_nonzero(np.array(Means)>=.204)/1000)\n",
    "(np.count_nonzero(np.array(Means)<=0)/100000)*100 #How many times did we get a difference less than 0?"
   ]
  },
  {
   "cell_type": "markdown",
   "metadata": {},
   "source": [
    "After enough trials, the probability of getting difference less than or equal to zero is extremely small. That is, this only occurred 43 times in 100,000 trials. While the probability of getting an average difference greater than .204 happens 50% of the time, the probability that the versicolor has a larger sepal width, is highly unlikely, and based on our understanding, it is possible to reject the null, that is, the average of the differences occurred by chance."
   ]
  },
  {
   "cell_type": "markdown",
   "metadata": {},
   "source": [
    "Now a difference from above, instead of finding the average of the differences, we're going to find the difference of the averages."
   ]
  },
  {
   "cell_type": "code",
   "execution_count": 44,
   "metadata": {},
   "outputs": [
    {
     "name": "stderr",
     "output_type": "stream",
     "text": [
      "C:\\Users\\C20KarlErik.VanHegew\\AppData\\Local\\Continuum\\anaconda3\\lib\\site-packages\\matplotlib\\axes\\_axes.py:6462: UserWarning: The 'normed' kwarg is deprecated, and has been replaced by the 'density' kwarg.\n",
      "  warnings.warn(\"The 'normed' kwarg is deprecated, and has been \"\n"
     ]
    },
    {
     "data": {
      "image/png": "[encoded data removed]",
      "text/plain": [
       "<Figure size 432x288 with 1 Axes>"
      ]
     },
     "metadata": {},
     "output_type": "display_data"
    }
   ],
   "source": [
    "Difference_of_averages=[]\n",
    "for i in np.arange(10000):\n",
    "    sampled_Virgin=iris_sub.select(1).sample(k=Table_of_widths.num_rows,with_replacement=True)\n",
    "    sampled_Versicolor=iris_sub.select(1).sample(k=Table_of_widths.num_rows,with_replacement=True)\n",
    "    Difference_of_average=(np.mean(sampled_Virgin.column(0))-np.mean(sampled_Versicolor.column(0)))\n",
    "    Difference_of_averages=np.append(Difference_of_averages,Difference_of_average)\n",
    "Table().with_column('Averages',Difference_of_averages).hist(overlay=False,bins=30)"
   ]
  },
  {
   "cell_type": "code",
   "execution_count": 45,
   "metadata": {},
   "outputs": [
    {
     "data": {
      "text/plain": [
       "0.0011"
      ]
     },
     "execution_count": 45,
     "metadata": {},
     "output_type": "execute_result"
    }
   ],
   "source": [
    "(sum(np.array(Difference_of_averages)>=.2039)/10000)"
   ]
  },
  {
   "cell_type": "markdown",
   "metadata": {},
   "source": [
    "Step 4: Make decisions"
   ]
  },
  {
   "cell_type": "markdown",
   "metadata": {},
   "source": [
    "Considering that the probability of getting a value greater than .2039 occurs less than .11 percent of the time based on our final method of measuring. Therefore, we consider this siginificant enough to reject the null hypothesis."
   ]
  },
  {
   "cell_type": "code",
   "execution_count": null,
   "metadata": {},
   "outputs": [],
   "source": []
  }
 ],
 "metadata": {
  "kernelspec": {
   "display_name": "Python 3",
   "language": "python",
   "name": "python3"
  },
  "language_info": {
   "codemirror_mode": {
    "name": "ipython",
    "version": 3
   },
   "file_extension": ".py",
   "mimetype": "text/x-python",
   "name": "python",
   "nbconvert_exporter": "python",
   "pygments_lexer": "ipython3",
   "version": "3.6.5"
  }
 },
 "nbformat": 4,
 "nbformat_minor": 2
}

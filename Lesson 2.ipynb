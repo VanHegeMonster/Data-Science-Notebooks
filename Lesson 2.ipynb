{
 "cells": [
  {
   "cell_type": "markdown",
   "metadata": {},
   "source": [
    "# Classwork Lesson 2"
   ]
  },
  {
   "cell_type": "markdown",
   "metadata": {},
   "source": [
    "1) Define data science. How do you think you will use Data Science in your career (either\n",
    "as a student or in the Air Force)?\n",
    "\n",
    "2) What are the three focus areas in this course?\n",
    "\n",
    "3) Install the datascience package (no Jupyter notebook input required).\n",
    "\n",
    "4) Do at least 3 basic calculations in three separate boxes.\n",
    "\n",
    "5) In another box, use python code to print your name followed by a “thumbs up” sign (you\n",
    "may need to do an internet search for Unicode thumbs up character).\n",
    "\n",
    "6) I read once that violent crime is significantly associated with ice cream sales. That is, as\n",
    "ice cream sales increase, so does violent crime. Do high ice cream sales cause an\n",
    "increase in violent crime? Explain this relationship.\n",
    "\n",
    "7) What is the difference between an observational study and an experiment?\n"
   ]
  },
  {
   "cell_type": "markdown",
   "metadata": {},
   "source": [
    "## Solutions"
   ]
  },
  {
   "cell_type": "markdown",
   "metadata": {},
   "source": [
    "1) Data science is defined as making logical conclusions from large sets of data by way of using exploration, prediction, and inference. In my cadet career or the big AF, this can be used where large sets of test data is collected to solve a problem. By exploring different associations and generating a variety of predictions, we can work towards establishing causality to the greatest degree possible."
   ]
  },
  {
   "cell_type": "markdown",
   "metadata": {},
   "source": [
    "2) The three focus areas in this course rely upon exploration, prediction and inference. All of which establish the foundations of data science."
   ]
  },
  {
   "cell_type": "markdown",
   "metadata": {},
   "source": [
    "3) DONE!"
   ]
  },
  {
   "cell_type": "markdown",
   "metadata": {},
   "source": [
    "4) Basic calculations"
   ]
  },
  {
   "cell_type": "code",
   "execution_count": 1,
   "metadata": {},
   "outputs": [
    {
     "data": {
      "text/plain": [
       "4"
      ]
     },
     "execution_count": 1,
     "metadata": {},
     "output_type": "execute_result"
    }
   ],
   "source": [
    "2+2"
   ]
  },
  {
   "cell_type": "code",
   "execution_count": 2,
   "metadata": {},
   "outputs": [
    {
     "data": {
      "text/plain": [
       "42"
      ]
     },
     "execution_count": 2,
     "metadata": {},
     "output_type": "execute_result"
    }
   ],
   "source": [
    "6*7"
   ]
  },
  {
   "cell_type": "code",
   "execution_count": 3,
   "metadata": {},
   "outputs": [
    {
     "data": {
      "text/plain": [
       "-6724.75"
      ]
     },
     "execution_count": 3,
     "metadata": {},
     "output_type": "execute_result"
    }
   ],
   "source": [
    "43+65/4-6785+1"
   ]
  },
  {
   "cell_type": "markdown",
   "metadata": {},
   "source": [
    "5) Print name followed by a thumbs up sign "
   ]
  },
  {
   "cell_type": "code",
   "execution_count": 6,
   "metadata": {},
   "outputs": [
    {
     "data": {
      "text/plain": [
       "'Erik Van Hegewald 👍'"
      ]
     },
     "execution_count": 6,
     "metadata": {},
     "output_type": "execute_result"
    }
   ],
   "source": [
    "\"Erik Van Hegewald \" + \"\\U0001F44D\""
   ]
  },
  {
   "cell_type": "markdown",
   "metadata": {},
   "source": [
    "6) That is, as ice cream sales increase, so does violent crime. Do high ice cream sales cause an increase in violent crime? Explain this relationship.\n",
    "\n",
    "There is one key issue, the assumption is that as ice cream sales increase, CAUSES the increase in violent crime. Although there may be an association and a correlation of the data, ice cream sales and crime may have several confounding factors. Should one collect data from multiple areas, with sufficient similarity of demographics, income, all else being the same, then one could look at and determine the effect of counfounding factors to establish causality. Association does not mean causality."
   ]
  },
  {
   "cell_type": "markdown",
   "metadata": {},
   "source": [
    "7) An observational study is where one observes the environment and does control the 'control group' or the variable they are studying. An experiment, however, is a study where the researcher/collector selects and determines the conditions for the control group/independent variable and the other variables"
   ]
  },
  {
   "cell_type": "code",
   "execution_count": null,
   "metadata": {},
   "outputs": [],
   "source": []
  }
 ],
 "metadata": {
  "kernelspec": {
   "display_name": "Python 3",
   "language": "python",
   "name": "python3"
  },
  "language_info": {
   "codemirror_mode": {
    "name": "ipython",
    "version": 3
   },
   "file_extension": ".py",
   "mimetype": "text/x-python",
   "name": "python",
   "nbconvert_exporter": "python",
   "pygments_lexer": "ipython3",
   "version": "3.6.5"
  }
 },
 "nbformat": 4,
 "nbformat_minor": 2
}

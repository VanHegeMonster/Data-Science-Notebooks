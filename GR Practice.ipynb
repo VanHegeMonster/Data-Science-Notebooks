{
 "cells": [
  {
   "cell_type": "code",
   "execution_count": 3,
   "metadata": {},
   "outputs": [],
   "source": [
    "from scipy import stats\n",
    "import numpy as np"
   ]
  },
  {
   "cell_type": "markdown",
   "metadata": {},
   "source": [
    "5 MIN:\n",
    "\n",
    "Suppose there are 12 male and 7 female cadets in a classroom. I select 5 completely at random (without replacement). \n",
    "\n",
    "**_3.1_** Find the probability I select no female cadets. \n",
    "\n",
    "**_3.2_** Find the probability I select more than 2 female cadets. "
   ]
  },
  {
   "cell_type": "code",
   "execution_count": 17,
   "metadata": {},
   "outputs": [
    {
     "data": {
      "text/plain": [
       "0.06811145510835913"
      ]
     },
     "execution_count": 17,
     "metadata": {},
     "output_type": "execute_result"
    }
   ],
   "source": [
    "stats.hypergeom.cdf(0,19,7,5)"
   ]
  },
  {
   "cell_type": "code",
   "execution_count": 33,
   "metadata": {},
   "outputs": [
    {
     "data": {
      "text/plain": [
       "0.23658410732714208"
      ]
     },
     "execution_count": 33,
     "metadata": {},
     "output_type": "execute_result"
    }
   ],
   "source": [
    "1-stats.hypergeom.cdf(2,19,7,5)"
   ]
  },
  {
   "cell_type": "markdown",
   "metadata": {},
   "source": [
    "8 min:\n",
    "\n",
    "On a given Saturday, suppose vehicles arrive at the USAFA North Gate according to a Poisson process at a rate of 40 arrivals per hour. \n",
    "\n",
    "**_2.1_** Find the probability no vehicles arrive in 10 minutes. \n",
    "\n",
    "**_2.2_** Find the probability at least 50 vehicles arrive in an hour. \n",
    "\n",
    "**_2.3_** Find the probability that at least 5 minutes will pass before the next arrival.\n",
    "\n",
    "**_2.4_** Find the probability that the next vehicle will arrive between 2 and 10 minutes from now. \n",
    "\n",
    "**_2.5_** Find the probability that at least 7 minutes will pass before the next arrival, given that 2 minute have already passed. Compare this answer to **_2.3_**. This is an example of the *memoryless* property of the exponential distribution.\n",
    "\n",
    "**_2.6_** Fill in the blank. There is a probability of 90% that the next vehicle will arrive within __ minutes. This value is known as the 90% percentile of the random variable. "
   ]
  },
  {
   "cell_type": "code",
   "execution_count": 34,
   "metadata": {},
   "outputs": [
    {
     "name": "stdout",
     "output_type": "stream",
     "text": [
      "0.0012726338013398079\n",
      "0.07033506665939493\n",
      "0.035673993347252395\n",
      "0.2623245043143869\n",
      "0.03567399334725243\n",
      "3.453877639491069\n"
     ]
    }
   ],
   "source": [
    "#2.1: \n",
    "lamb=40/6\n",
    "print(stats.poisson.pmf(0,40/6))\n",
    "#2.2 \n",
    "lamb=40\n",
    "print(1-stats.poisson.cdf(49,lamb))\n",
    "#2.3:\n",
    "#Two ways: Will use poisson\n",
    "lamb=40/(12) #number in 5 min\n",
    "print(stats.poisson.pmf(0,lamb))\n",
    "#2.4 \n",
    "lamb_min=40/60\n",
    "print(stats.expon.cdf(x=10,scale=1/lamb_min)-stats.expon.cdf(x=2,scale=1/lamb_min))\n",
    "#2.5\n",
    "#Great than equal\n",
    "print((1-stats.expon.cdf(x=7,scale=1/lamb_min))/(1-stats.expon.cdf(x=2,scale=1/lamb_min)))\n",
    "#2.6\n",
    "print(stats.expon.ppf(.90,scale=1/lamb_min))"
   ]
  },
  {
   "cell_type": "markdown",
   "metadata": {},
   "source": [
    "Find the probability that there will be 15 MX failures in 1500 sorties."
   ]
  },
  {
   "cell_type": "code",
   "execution_count": 2,
   "metadata": {},
   "outputs": [
    {
     "data": {
      "text/plain": [
       "0.5502177524683652"
      ]
     },
     "execution_count": 2,
     "metadata": {},
     "output_type": "execute_result"
    }
   ],
   "source": [
    "stats.nbinom.cdf(1500,15,.01)"
   ]
  },
  {
   "cell_type": "markdown",
   "metadata": {},
   "source": [
    "5 MIN:\n",
    "\n",
    " |  | $X$  | 1 | 2 | 3 |\n",
    " |-- | ------ | ------ |\n",
    " |  | 1 | 0.17 | 0.15 | 0.08 |\n",
    " | $Y$ | 2 | 0.00 | 0.10 | 0.10 |\n",
    " |  | 3 | 0.08 | 0.20 | 0.12 |\n",
    " "
   ]
  },
  {
   "cell_type": "markdown",
   "metadata": {},
   "source": [
    "**_1.1_** Find $P(X = 2,Y=3)$. \n",
    "\n",
    "**_1.2_** Find $E(X+Y)$. "
   ]
  },
  {
   "cell_type": "markdown",
   "metadata": {},
   "source": [
    "**_1.6_** Find $P(Y=1|X=3)$. \n",
    "\n",
    "**_1.7_** Find $f_{X|Y=2}(x)$, the conditional pmf of $X$, given $Y=2$. \n",
    "\n",
    "**_1.8_** Find $E(X|Y=2)$ and $V(X|Y=2)$. "
   ]
  },
  {
   "cell_type": "markdown",
   "metadata": {},
   "source": [
    "5 MIN:\n",
    "\n",
    "Let $X$ follow the normal distribution with mean 3 and standard deviation 10. \n",
    "\n",
    "1) Find $P(X<0)$. \n",
    "\n",
    "2) Find the 90th percentile of $X$. \n",
    "\n",
    "3) Given $X$ is greater than the mean, find the probability that $X$ is less than the mean plus two standard deviations. "
   ]
  },
  {
   "cell_type": "markdown",
   "metadata": {},
   "source": [
    "3 min:\n",
    "    Let $X \\sim \\textsf{Unif}(0,1)$. Let $Y=X^2$. Find the **pdf** of $Y$. Again, specify the domain of $Y$. "
   ]
  },
  {
   "cell_type": "code",
   "execution_count": null,
   "metadata": {},
   "outputs": [],
   "source": [
    "2 Min: \n",
    "\n",
    "Define bootstap and what are some ways you can simulate?"
   ]
  }
 ],
 "metadata": {
  "kernelspec": {
   "display_name": "Python 3",
   "language": "python",
   "name": "python3"
  },
  "language_info": {
   "codemirror_mode": {
    "name": "ipython",
    "version": 3
   },
   "file_extension": ".py",
   "mimetype": "text/x-python",
   "name": "python",
   "nbconvert_exporter": "python",
   "pygments_lexer": "ipython3",
   "version": "3.6.5"
  }
 },
 "nbformat": 4,
 "nbformat_minor": 2
}

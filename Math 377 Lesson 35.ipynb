{
 "cells": [
  {
   "cell_type": "code",
   "execution_count": 1,
   "metadata": {},
   "outputs": [],
   "source": [
    "from datascience import *\n",
    "import numpy as np\n",
    "import pandas as pd\n",
    "from math import *\n",
    "from scipy import stats\n",
    "import matplotlib.pyplot as plt\n",
    "%matplotlib inline"
   ]
  },
  {
   "cell_type": "markdown",
   "metadata": {},
   "source": [
    "## Lesson 35: Regression"
   ]
  },
  {
   "cell_type": "markdown",
   "metadata": {},
   "source": [
    "Over the last two lessons, you went over regression in Data 8.3x. In these sections, you learned how to calculate the slope and intercept of a line fit to a bivariate sample. For example, using the `baby.csv` dataset, you can use regression to predict birthweight given the gestational age of the baby at birth. "
   ]
  },
  {
   "cell_type": "markdown",
   "metadata": {},
   "source": [
    "### Exercise 1\n",
    "\n",
    "Find the least squares line that predicts birthweight based on the gestational age of a baby. You should use `minimize`, an optimization method in the `datascience` package. Note that you could use standardization (similar to what they did in Data 8.3x, `lec7.ipynb`) but the resulting intercept and slope would be in standardized units, and would need to be transformed in order to be interpretable. "
   ]
  },
  {
   "cell_type": "code",
   "execution_count": 2,
   "metadata": {},
   "outputs": [
    {
     "data": {
      "text/html": [
       "<table border=\"1\" class=\"dataframe\">\n",
       "    <thead>\n",
       "        <tr>\n",
       "            <th>Birth Weight</th> <th>Gestational Days</th> <th>Maternal Age</th> <th>Maternal Height</th> <th>Maternal Pregnancy Weight</th> <th>Maternal Smoker</th>\n",
       "        </tr>\n",
       "    </thead>\n",
       "    <tbody>\n",
       "        <tr>\n",
       "            <td>120         </td> <td>284             </td> <td>27          </td> <td>62             </td> <td>100                      </td> <td>False          </td>\n",
       "        </tr>\n",
       "        <tr>\n",
       "            <td>113         </td> <td>282             </td> <td>33          </td> <td>64             </td> <td>135                      </td> <td>False          </td>\n",
       "        </tr>\n",
       "        <tr>\n",
       "            <td>128         </td> <td>279             </td> <td>28          </td> <td>64             </td> <td>115                      </td> <td>True           </td>\n",
       "        </tr>\n",
       "    </tbody>\n",
       "</table>\n",
       "<p>... (1171 rows omitted)</p>"
      ],
      "text/plain": [
       "<IPython.core.display.HTML object>"
      ]
     },
     "metadata": {},
     "output_type": "display_data"
    }
   ],
   "source": [
    "baby = Table.read_table('baby.csv')\n",
    "baby.show(3)"
   ]
  },
  {
   "cell_type": "code",
   "execution_count": 3,
   "metadata": {},
   "outputs": [
    {
     "data": {
      "image/png": "[encoded data removed]",
      "text/plain": [
       "<Figure size 432x288 with 1 Axes>"
      ]
     },
     "metadata": {},
     "output_type": "display_data"
    }
   ],
   "source": [
    "plt.scatter(baby.column(1),baby.column(0))\n",
    "plt.show()"
   ]
  },
  {
   "cell_type": "code",
   "execution_count": 4,
   "metadata": {},
   "outputs": [
    {
     "name": "stdout",
     "output_type": "stream",
     "text": [
      "[0.4284036994399665, -0.07039869065634102]\n"
     ]
    }
   ],
   "source": [
    "#Let's define a function like we did in 8.3x, specifically, we shall use the techinique of nested definitions.\n",
    "def fit_line(Table):\n",
    "    x=Table.column('Gestational Days')\n",
    "    y=Table.column('Birth Weight')\n",
    "    def MSE(slope,intercept):\n",
    "        regression=x*slope+intercept\n",
    "        return np.mean((y-regression)**2)\n",
    "    LS_Line=minimize(MSE)\n",
    "    LS_slope=LS_Line.item(0)\n",
    "    LS_intercept=LS_Line.item(1)\n",
    "    return [LS_slope,LS_intercept]\n",
    "\n",
    "Data_fit=fit_line(baby)\n",
    "print(Data_fit)\n",
    "slope=Data_fit[0]\n",
    "intercept=Data_fit[1]"
   ]
  },
  {
   "cell_type": "markdown",
   "metadata": {},
   "source": [
    "In the context of the data, interpret the intercept and slope. "
   ]
  },
  {
   "cell_type": "markdown",
   "metadata": {},
   "source": [
    "The slope asserts that the a baby gains approximately on AVERAGE .428 ounces for every day of gestation. The incercept, which according to our model is a negative number, sets a baby's birth weight at -.07 ounces for zero days of gestation. While the intercept lacks intuitive sense, you also aren't going to have a baby born on the day of conception, and we conclude that given the methods used on a empirical data set, our slope is sensible and our intercept is used to anchor the data in order to yield a model with least errors."
   ]
  },
  {
   "cell_type": "markdown",
   "metadata": {},
   "source": [
    "The slope is 0.428. It seems reasonable to expect this slope to be significantly higher than zero; it makes sense that gestational age would impact birthweight. Let's check using bootstrapping. "
   ]
  },
  {
   "cell_type": "code",
   "execution_count": 5,
   "metadata": {},
   "outputs": [],
   "source": [
    "#Perform a hypothesis test. Is the true slope zero or not? Perform a confidence interval. sample X Y pairs together. \\\n",
    "#Another bootstrap sample, another slope, sample pairs together\n",
    "\n",
    "#Begin sampling pairs together\n",
    "slopes=[]\n",
    "for i in np.arange(1000):\n",
    "    simulatedbaby=baby.sample()\n",
    "    Data_fit=fit_line(simulatedbaby)\n",
    "    slopes=np.append(slopes,Data_fit[0])    "
   ]
  },
  {
   "cell_type": "code",
   "execution_count": 6,
   "metadata": {},
   "outputs": [
    {
     "name": "stderr",
     "output_type": "stream",
     "text": [
      "C:\\Users\\C20KarlErik.VanHegew\\AppData\\Local\\Continuum\\anaconda3\\lib\\site-packages\\matplotlib\\axes\\_axes.py:6462: UserWarning: The 'normed' kwarg is deprecated, and has been replaced by the 'density' kwarg.\n",
      "  warnings.warn(\"The 'normed' kwarg is deprecated, and has been \"\n"
     ]
    },
    {
     "name": "stdout",
     "output_type": "stream",
     "text": [
      "0.4251551237447049 0.43268979800294016\n"
     ]
    },
    {
     "data": {
      "image/png": "[encoded data removed]",
      "text/plain": [
       "<Figure size 432x288 with 1 Axes>"
      ]
     },
     "metadata": {},
     "output_type": "display_data"
    }
   ],
   "source": [
    "table_of_slopes=Table().with_column('Slopes',slopes)\n",
    "table_of_slopes.hist()\n",
    "LHInterval=np.percentile(slopes,2.5)\n",
    "RHInterval=np.percentile(slopes,97.5)\n",
    "print(LHInterval,RHInterval)"
   ]
  },
  {
   "cell_type": "markdown",
   "metadata": {},
   "source": [
    "### Exercise 2\n",
    "\n",
    "For a baby born at 40 weeks gestational age, what do we expect to be the average birthweight according to this model?"
   ]
  },
  {
   "cell_type": "code",
   "execution_count": 7,
   "metadata": {},
   "outputs": [
    {
     "data": {
      "text/plain": [
       "119.88263715253427"
      ]
     },
     "execution_count": 7,
     "metadata": {},
     "output_type": "execute_result"
    }
   ],
   "source": [
    "forty_weeks= slope*(40*7)+intercept\n",
    "forty_weeks"
   ]
  },
  {
   "cell_type": "markdown",
   "metadata": {},
   "source": [
    "Using bootstrapping, build a 95% confidence interval around this estimate. Interpret this interval, carefully. "
   ]
  },
  {
   "cell_type": "code",
   "execution_count": 8,
   "metadata": {},
   "outputs": [
    {
     "name": "stdout",
     "output_type": "stream",
     "text": [
      "118.85654771644204 120.8922120143384\n"
     ]
    },
    {
     "name": "stderr",
     "output_type": "stream",
     "text": [
      "C:\\Users\\C20KarlErik.VanHegew\\AppData\\Local\\Continuum\\anaconda3\\lib\\site-packages\\matplotlib\\axes\\_axes.py:6462: UserWarning: The 'normed' kwarg is deprecated, and has been replaced by the 'density' kwarg.\n",
      "  warnings.warn(\"The 'normed' kwarg is deprecated, and has been \"\n"
     ]
    },
    {
     "data": {
      "image/png": "[encoded data removed]",
      "text/plain": [
       "<Figure size 432x288 with 1 Axes>"
      ]
     },
     "metadata": {},
     "output_type": "display_data"
    }
   ],
   "source": [
    "slopes=[]\n",
    "intercepts=[]\n",
    "forty_weeks=[]\n",
    "for i in np.arange(1000):\n",
    "    simulatedbaby=baby.sample()\n",
    "    Data_fit=fit_line(simulatedbaby)\n",
    "    slopes=np.append(slopes,Data_fit[0])\n",
    "    intercepts=np.append(intercepts,Data_fit[1])\n",
    "    forty_weeks=np.append(forty_weeks,Data_fit[0]*(40*7)+Data_fit[1])\n",
    "\n",
    "table_forty_weeks=Table().with_column('Birth Weight',forty_weeks)\n",
    "table_forty_weeks.hist()\n",
    "print(np.percentile(forty_weeks,2.5),np.percentile(forty_weeks,97.5))"
   ]
  },
  {
   "cell_type": "markdown",
   "metadata": {},
   "source": [
    "This is a confidence inteval on the **mean** birthweight for a baby born at 40 weeks. "
   ]
  },
  {
   "cell_type": "markdown",
   "metadata": {},
   "source": [
    "### Exercise 3\n",
    "\n",
    "Suppose a baby is born at 40 weeks. Let's construct a confidence interval for the birthweight of *that baby*. This is different than the confidence interval on the mean birthweight of babies born at 40 weeks. This interval is known as a prediction interval. \n",
    "\n",
    "A simple way to find the prediction interval is to sample many times (with replacement) from the observed residuals and add to the predicted birthweight under the linear model. Find the percentiles of these simulations to obtain the interval. "
   ]
  },
  {
   "cell_type": "code",
   "execution_count": 9,
   "metadata": {},
   "outputs": [
    {
     "name": "stdout",
     "output_type": "stream",
     "text": [
      "91.76563028969542 148.76610499761458\n"
     ]
    },
    {
     "name": "stderr",
     "output_type": "stream",
     "text": [
      "C:\\Users\\C20KarlErik.VanHegew\\AppData\\Local\\Continuum\\anaconda3\\lib\\site-packages\\matplotlib\\axes\\_axes.py:6462: UserWarning: The 'normed' kwarg is deprecated, and has been replaced by the 'density' kwarg.\n",
      "  warnings.warn(\"The 'normed' kwarg is deprecated, and has been \"\n"
     ]
    },
    {
     "data": {
      "image/png": "[encoded data removed]",
      "text/plain": [
       "<Figure size 432x288 with 1 Axes>"
      ]
     },
     "metadata": {},
     "output_type": "display_data"
    }
   ],
   "source": [
    "#How much variation an individual baby will have?\n",
    "def errors(t, slope, intercept):\n",
    "    ### t is the table (assume x and y points) -  are col 1 and col 2###\n",
    "    ### Recall we are predicting distance (col 2 using col 1)\n",
    "    RegressionLine=t.column(1)*slope+intercept #y=mx+b easy enough\n",
    "    error=t.column(0)-RegressionLine\n",
    "    return error\n",
    "error=baby.column(0)- (slope*baby.column(1)+intercept)\n",
    "residuals=[]\n",
    "forty_weeks_resid=[]\n",
    "slopes=[]\n",
    "intercepts=[]\n",
    "for i in np.arange(1000):\n",
    "    simulatedbaby=baby.sample()\n",
    "    Data_fit=fit_line(simulatedbaby)\n",
    "    slopes=np.append(slopes,Data_fit[0])\n",
    "    intercepts=np.append(intercepts,Data_fit[1])\n",
    "    residuals=np.append(residuals,np.random.choice(error,size=1))\n",
    "    forty_weeks_resid=np.append(forty_weeks_resid,(Data_fit[0]*(40*7)+Data_fit[1])+residuals[i])\n",
    "print(percentile(5,forty_weeks_resid),percentile(95,forty_weeks_resid))\n",
    "table_forty_weeks=Table().with_column('Forty Week Estimates',forty_weeks_resid)\n",
    "table_forty_weeks.hist()"
   ]
  },
  {
   "cell_type": "code",
   "execution_count": 10,
   "metadata": {},
   "outputs": [
    {
     "name": "stderr",
     "output_type": "stream",
     "text": [
      "C:\\Users\\C20KarlErik.VanHegew\\AppData\\Local\\Continuum\\anaconda3\\lib\\site-packages\\matplotlib\\axes\\_axes.py:6462: UserWarning: The 'normed' kwarg is deprecated, and has been replaced by the 'density' kwarg.\n",
      "  warnings.warn(\"The 'normed' kwarg is deprecated, and has been \"\n"
     ]
    },
    {
     "data": {
      "image/png": "[encoded data removed]",
      "text/plain": [
       "<Figure size 432x288 with 1 Axes>"
      ]
     },
     "metadata": {},
     "output_type": "display_data"
    }
   ],
   "source": [
    "#Just for curiousity, let's look at the slopes and their distribution:\n",
    "table_forty_weeks_slopes=Table().with_column('Forty Week Slope Predictions',slopes)\n",
    "table_forty_weeks_slopes.hist()"
   ]
  },
  {
   "cell_type": "code",
   "execution_count": 11,
   "metadata": {},
   "outputs": [
    {
     "name": "stderr",
     "output_type": "stream",
     "text": [
      "C:\\Users\\C20KarlErik.VanHegew\\AppData\\Local\\Continuum\\anaconda3\\lib\\site-packages\\matplotlib\\axes\\_axes.py:6462: UserWarning: The 'normed' kwarg is deprecated, and has been replaced by the 'density' kwarg.\n",
      "  warnings.warn(\"The 'normed' kwarg is deprecated, and has been \"\n"
     ]
    },
    {
     "data": {
      "image/png": "[encoded data removed]",
      "text/plain": [
       "<Figure size 432x288 with 1 Axes>"
      ]
     },
     "metadata": {},
     "output_type": "display_data"
    }
   ],
   "source": [
    "#And Residuals...\n",
    "table_forty_weeks_residuals=Table().with_column('Forty Week Residuals (errors)',residuals)\n",
    "table_forty_weeks_residuals.hist()"
   ]
  },
  {
   "cell_type": "markdown",
   "metadata": {},
   "source": [
    "It turns out that this method is a little oversimplified. A \"more correct\" method is below. This requires taking into account the *leverage* of each data point (basically a measure of impact to the model of each data point). "
   ]
  },
  {
   "cell_type": "code",
   "execution_count": 12,
   "metadata": {},
   "outputs": [
    {
     "data": {
      "text/plain": [
       "array([31.3561498 , 97.93999815])"
      ]
     },
     "execution_count": 12,
     "metadata": {},
     "output_type": "execute_result"
    }
   ],
   "source": [
    "residuals=error \n",
    "pred=intercept+slope*150\n",
    "leverage=1/baby.num_rows + ((baby.column(1)-np.mean(baby.column(1)))**2)/np.sum(((baby.column(1)-np.mean(baby.column(1)))**2))\n",
    "adjresiduals=residuals/np.sqrt(1-leverage)\n",
    "\n",
    "bs_all=[]\n",
    "for _ in np.arange(5000):\n",
    "    bs_y=(intercept+slope*baby.column(1))+np.random.choice(adjresiduals,size=baby.num_rows,replace=True)\n",
    "    resample=Table().with_columns(\"y\",bs_y,\"x\",baby.column(1))\n",
    "    x=resample.column('x')\n",
    "    y=resample.column('y')\n",
    "    def MSE(slope,intercept):\n",
    "        regression=x*slope+intercept\n",
    "        return np.mean((y-regression)**2)\n",
    "    bs_slope,bs_intercept=minimize(MSE)\n",
    "    bs_residuals=bs_y-(bs_intercept+bs_slope*baby.column(1))\n",
    "    bs_adjresiduals=bs_residuals/np.sqrt(1-leverage)\n",
    "    bs_all=np.append(bs_all,150*(slope-bs_slope)+np.random.choice(bs_adjresiduals))\n",
    "\n",
    "percentile([2.5,97.5],pred+bs_all)"
   ]
  }
 ],
 "metadata": {
  "kernelspec": {
   "display_name": "Python 3",
   "language": "python",
   "name": "python3"
  },
  "language_info": {
   "codemirror_mode": {
    "name": "ipython",
    "version": 3
   },
   "file_extension": ".py",
   "mimetype": "text/x-python",
   "name": "python",
   "nbconvert_exporter": "python",
   "pygments_lexer": "ipython3",
   "version": "3.6.5"
  }
 },
 "nbformat": 4,
 "nbformat_minor": 2
}

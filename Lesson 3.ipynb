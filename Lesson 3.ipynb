{
 "cells": [
  {
   "cell_type": "code",
   "execution_count": 1,
   "metadata": {},
   "outputs": [],
   "source": [
    "import numpy as np\n",
    "from datascience import * \n",
    "%matplotlib inline \n",
    "# is a magic command... \n",
    "import matplotlib.pyplot as plots # This is the package that uses plots.\n",
    "plots.style.use('fivethirtyeight') #This is a plot style, a blog based off of the 538 blog.\n",
    "import warnings # pinkish box warning...\n",
    "warnings.simplefilter(action=\"ignore\", category=FutureWarning) #This line tells the program to ignore those.\n"
   ]
  },
  {
   "cell_type": "markdown",
   "metadata": {},
   "source": [
    "#### 1)Use basic Python operators to find the number of seconds in the month of June. Find the number of seconds that have lapsed between 1 June at noon and 14 Aug, 9:30 AM. \n"
   ]
  },
  {
   "cell_type": "code",
   "execution_count": 2,
   "metadata": {},
   "outputs": [
    {
     "data": {
      "text/plain": [
       "2756808.0"
      ]
     },
     "execution_count": 2,
     "metadata": {},
     "output_type": "execute_result"
    }
   ],
   "source": [
    "# Solution using BASIC math operators:\n",
    "30*24*60*60 # for number of seconds in June\n",
    "# Now for number of seconds since June 1 at noon to 14 Aug 0930.\n",
    "((29*24)+(12)*60*60)+(31*24*60*60)+(13*24+(9.5)*60*60) #29 days in June+June 1st at noon+Month of July+13 days in August+9.5hrs Aug14th"
   ]
  },
  {
   "cell_type": "markdown",
   "metadata": {},
   "source": [
    "### 2)\tImport a table (‘world_population.csv’) and find: \n",
    "#### a.\tThe population in 2015 (the dataset begins at 1950). \n",
    "#### b.\tThe population growth between 1950 and 2015. \n",
    "#### c.\tThe average annual growth rate over the course of the dataset.\n"
   ]
  },
  {
   "cell_type": "code",
   "execution_count": 3,
   "metadata": {},
   "outputs": [
    {
     "name": "stdout",
     "output_type": "stream",
     "text": [
      "Population\n",
      "2557628654\n",
      "World population at 2015 is Population\n",
      "7256490011\n"
     ]
    }
   ],
   "source": [
    "from datascience import Table #Take Table module from the datascience package\n",
    "\n",
    "WorldPopulation=Table.read_table('./Data/world_population.csv') \n",
    "#Read the data. For me I put the data into a separate sub folder from that of my Jupyter notebooks so that's why it looks weird.\n",
    "\n",
    "#So, before finding the population in 2015, let's see what it looks like for 1950, noting that python indexs at 0:\n",
    "print(WorldPopulation.take(0)) #This is therefore population at 1950 for the 2nd entry in the csv file...\n",
    "print('World population at 2015 is', WorldPopulation.take(2015-1950)) #This draws the specific line to be 2015. That is, 2015-1950=65. So, note that \n",
    "#because the file has a title at row 1, and then begins printing population numbers at 2, indexing at 65 will give us the 67th\n",
    "# entry within the table. "
   ]
  },
  {
   "cell_type": "code",
   "execution_count": 4,
   "metadata": {},
   "outputs": [
    {
     "name": "stdout",
     "output_type": "stream",
     "text": [
      "Average annual growth rate is: 0.01617270380658975\n"
     ]
    }
   ],
   "source": [
    "pop2015=max(WorldPopulation.column('Population'))\n",
    "pop1950=min(WorldPopulation.column('Population'))\n",
    "#Average annual growth rate\n",
    "AvgAnnualGrowthRate=(pop2015/pop1950) ** (1/(2015-1950)) - 1 #Formula from Chapter 3.2.1 from inferential thinking \n",
    "print('Average annual growth rate is:',AvgAnnualGrowthRate) #prints out the output."
   ]
  },
  {
   "cell_type": "markdown",
   "metadata": {},
   "source": [
    "### 3)\tThe ‘Titanic’ dataset describes passengers on the Titanic when it sank. Url:  https://raw.githubusercontent.com/oikobill/Kaggle/master/Titanic/data/train.csv. Information about this dataset can be found at a kaggle site (https://www.kaggle.com/c/titanic). Import this dataset and answer the following questions: \n",
    "#### a.\tRelabel the ‘Pclass’ column to ‘passenger_class’. \n",
    "#### b.\tCreate a new column ‘family_size’ that adds the number of siblings/spouses, ‘SibSp’, to the number of children, ‘Parch’. \n",
    "#### c.\tCreate a barplot of number of passengers, broken down by passenger class. HINT: you will need to use the group method on the dataset; for more info, see the datascience package help.  \n",
    "#### d.\tSort the data by age and show the youngest 5 passengers. \n",
    "#### e.\tNow sort by age from oldest to youngest and show the oldest 5 passengers. What did you notice? Eliminate these “nan” values and try again.\n",
    "#### f.\tFind the survival rate for passengers of the Titanic, broken down by passenger class. (HINT: select the columns you care about and then apply the group method, summarizing with the mean.) \n",
    "#### g.\tNow that you have some familiarity with the dataset, create two of your own questions and answer them."
   ]
  },
  {
   "cell_type": "code",
   "execution_count": 5,
   "metadata": {},
   "outputs": [
    {
     "data": {
      "text/html": [
       "<table border=\"1\" class=\"dataframe\">\n",
       "    <thead>\n",
       "        <tr>\n",
       "            <th>PassengerId</th> <th>Survived</th> <th>Pclass</th> <th>Name</th> <th>Sex</th> <th>Age</th> <th>SibSp</th> <th>Parch</th> <th>Ticket</th> <th>Fare</th> <th>Cabin</th> <th>Embarked</th>\n",
       "        </tr>\n",
       "    </thead>\n",
       "    <tbody>\n",
       "        <tr>\n",
       "            <td>1          </td> <td>0       </td> <td>3     </td> <td>Braund, Mr. Owen Harris                            </td> <td>male  </td> <td>22  </td> <td>1    </td> <td>0    </td> <td>A/5 21171</td> <td>7.25   </td> <td>nan  </td> <td>S       </td>\n",
       "        </tr>\n",
       "        <tr>\n",
       "            <td>2          </td> <td>1       </td> <td>1     </td> <td>Cumings, Mrs. John Bradley (Florence Briggs Thayer)</td> <td>female</td> <td>38  </td> <td>1    </td> <td>0    </td> <td>PC 17599 </td> <td>71.2833</td> <td>C85  </td> <td>C       </td>\n",
       "        </tr>\n",
       "    </tbody>\n",
       "</table>\n",
       "<p>... (889 rows omitted)</p>"
      ],
      "text/plain": [
       "<IPython.core.display.HTML object>"
      ]
     },
     "metadata": {},
     "output_type": "display_data"
    }
   ],
   "source": [
    "Passengers= Table.read_table('https://raw.githubusercontent.com/oikobill/Kaggle/master/Titanic/data/train.csv')\n",
    "Passengers.show(2) #show the first 2 rows of the table just to see them"
   ]
  },
  {
   "cell_type": "code",
   "execution_count": 6,
   "metadata": {
    "scrolled": true
   },
   "outputs": [
    {
     "data": {
      "text/html": [
       "<table border=\"1\" class=\"dataframe\">\n",
       "    <thead>\n",
       "        <tr>\n",
       "            <th>PassengerId</th> <th>Survived</th> <th>passenger_class</th> <th>Name</th> <th>Sex</th> <th>Age</th> <th>SibSp</th> <th>Parch</th> <th>Ticket</th> <th>Fare</th> <th>Cabin</th> <th>Embarked</th>\n",
       "        </tr>\n",
       "    </thead>\n",
       "    <tbody>\n",
       "        <tr>\n",
       "            <td>1          </td> <td>0       </td> <td>3              </td> <td>Braund, Mr. Owen Harris                            </td> <td>male  </td> <td>22  </td> <td>1    </td> <td>0    </td> <td>A/5 21171</td> <td>7.25   </td> <td>nan  </td> <td>S       </td>\n",
       "        </tr>\n",
       "        <tr>\n",
       "            <td>2          </td> <td>1       </td> <td>1              </td> <td>Cumings, Mrs. John Bradley (Florence Briggs Thayer)</td> <td>female</td> <td>38  </td> <td>1    </td> <td>0    </td> <td>PC 17599 </td> <td>71.2833</td> <td>C85  </td> <td>C       </td>\n",
       "        </tr>\n",
       "    </tbody>\n",
       "</table>\n",
       "<p>... (889 rows omitted)</p>"
      ],
      "text/plain": [
       "<IPython.core.display.HTML object>"
      ]
     },
     "metadata": {},
     "output_type": "display_data"
    }
   ],
   "source": [
    "#a)Relabel the ‘Pclass’ column to ‘passenger_class’.\n",
    "Passengers=Passengers.relabel('Pclass','passenger_class')\n",
    "Passengers.show(2)"
   ]
  },
  {
   "cell_type": "code",
   "execution_count": 7,
   "metadata": {},
   "outputs": [
    {
     "data": {
      "text/html": [
       "<table border=\"1\" class=\"dataframe\">\n",
       "    <thead>\n",
       "        <tr>\n",
       "            <th>PassengerId</th> <th>Survived</th> <th>passenger_class</th> <th>Name</th> <th>Sex</th> <th>Age</th> <th>SibSp</th> <th>Parch</th> <th>Ticket</th> <th>Fare</th> <th>Cabin</th> <th>Embarked</th> <th>family_size</th>\n",
       "        </tr>\n",
       "    </thead>\n",
       "    <tbody>\n",
       "        <tr>\n",
       "            <td>9          </td> <td>1       </td> <td>3              </td> <td>Johnson, Mrs. Oscar W (Elisabeth Vilhelmina Berg)</td> <td>female</td> <td>27  </td> <td>0    </td> <td>2    </td> <td>347742 </td> <td>11.1333</td> <td>nan  </td> <td>S       </td> <td>2          </td>\n",
       "        </tr>\n",
       "        <tr>\n",
       "            <td>10         </td> <td>1       </td> <td>2              </td> <td>Nasser, Mrs. Nicholas (Adele Achem)              </td> <td>female</td> <td>14  </td> <td>1    </td> <td>0    </td> <td>237736 </td> <td>30.0708</td> <td>nan  </td> <td>C       </td> <td>1          </td>\n",
       "        </tr>\n",
       "        <tr>\n",
       "            <td>11         </td> <td>1       </td> <td>3              </td> <td>Sandstrom, Miss. Marguerite Rut                  </td> <td>female</td> <td>4   </td> <td>1    </td> <td>1    </td> <td>PP 9549</td> <td>16.7   </td> <td>G6   </td> <td>S       </td> <td>2          </td>\n",
       "        </tr>\n",
       "        <tr>\n",
       "            <td>12         </td> <td>1       </td> <td>1              </td> <td>Bonnell, Miss. Elizabeth                         </td> <td>female</td> <td>58  </td> <td>0    </td> <td>0    </td> <td>113783 </td> <td>26.55  </td> <td>C103 </td> <td>S       </td> <td>0          </td>\n",
       "        </tr>\n",
       "    </tbody>\n",
       "</table>"
      ],
      "text/plain": [
       "PassengerId | Survived | passenger_class | Name                                              | Sex    | Age  | SibSp | Parch | Ticket  | Fare    | Cabin | Embarked | family_size\n",
       "9           | 1        | 3               | Johnson, Mrs. Oscar W (Elisabeth Vilhelmina Berg) | female | 27   | 0     | 2     | 347742  | 11.1333 | nan   | S        | 2\n",
       "10          | 1        | 2               | Nasser, Mrs. Nicholas (Adele Achem)               | female | 14   | 1     | 0     | 237736  | 30.0708 | nan   | C        | 1\n",
       "11          | 1        | 3               | Sandstrom, Miss. Marguerite Rut                   | female | 4    | 1     | 1     | PP 9549 | 16.7    | G6    | S        | 2\n",
       "12          | 1        | 1               | Bonnell, Miss. Elizabeth                          | female | 58   | 0     | 0     | 113783  | 26.55   | C103  | S        | 0"
      ]
     },
     "execution_count": 7,
     "metadata": {},
     "output_type": "execute_result"
    }
   ],
   "source": [
    "#b. Create a new column ‘family_size’ that adds the number of siblings/spouses, ‘SibSp’, to the number of children, ‘Parch’.\n",
    "Passengers=Passengers.with_column('family_size',Passengers['SibSp']+Passengers['Parch'])\n",
    "Passengers.take[8:12] #This is to demonstrate the function above properly added SibSp and Parch"
   ]
  },
  {
   "cell_type": "code",
   "execution_count": 8,
   "metadata": {},
   "outputs": [
    {
     "data": {
      "image/png": "[encoded data removed]",
      "text/plain": [
       "<Figure size 288x288 with 1 Axes>"
      ]
     },
     "metadata": {},
     "output_type": "display_data"
    }
   ],
   "source": [
    "#c. Create a barplot of number of passengers, broken down by passenger class. \n",
    "#HINT: you will need to use the group method on the dataset; for more info, see the datascience package help.\n",
    "Passengers_Sorted=Passengers.sort('passenger_class',descending = True) #Creating a new variable name so we can use it easily\n",
    "PassengerclassFreq=Passengers_Sorted.group('passenger_class')\n",
    "#So the group function above, it allows us to determine the \"groups\" in the passenger_class category and their frequency.\n",
    "#That is, we now have the amount of times a distinct value appears in the table and all types of distinct value\n",
    "PassengerclassFreq.sort('count',descending=True).bar('passenger_class','count',overlay=False,width=4,align='edge')"
   ]
  },
  {
   "cell_type": "code",
   "execution_count": 9,
   "metadata": {},
   "outputs": [
    {
     "data": {
      "text/html": [
       "<table border=\"1\" class=\"dataframe\">\n",
       "    <thead>\n",
       "        <tr>\n",
       "            <th>PassengerId</th> <th>Survived</th> <th>passenger_class</th> <th>Name</th> <th>Sex</th> <th>Age</th> <th>SibSp</th> <th>Parch</th> <th>Ticket</th> <th>Fare</th> <th>Cabin</th> <th>Embarked</th> <th>family_size</th>\n",
       "        </tr>\n",
       "    </thead>\n",
       "    <tbody>\n",
       "        <tr>\n",
       "            <td>804        </td> <td>1       </td> <td>3              </td> <td>Thomas, Master. Assad Alexander</td> <td>male  </td> <td>0.42</td> <td>0    </td> <td>1    </td> <td>2625  </td> <td>8.5167 </td> <td>nan  </td> <td>C       </td> <td>1          </td>\n",
       "        </tr>\n",
       "        <tr>\n",
       "            <td>756        </td> <td>1       </td> <td>2              </td> <td>Hamalainen, Master. Viljo      </td> <td>male  </td> <td>0.67</td> <td>1    </td> <td>1    </td> <td>250649</td> <td>14.5   </td> <td>nan  </td> <td>S       </td> <td>2          </td>\n",
       "        </tr>\n",
       "        <tr>\n",
       "            <td>470        </td> <td>1       </td> <td>3              </td> <td>Baclini, Miss. Helene Barbara  </td> <td>female</td> <td>0.75</td> <td>2    </td> <td>1    </td> <td>2666  </td> <td>19.2583</td> <td>nan  </td> <td>C       </td> <td>3          </td>\n",
       "        </tr>\n",
       "        <tr>\n",
       "            <td>645        </td> <td>1       </td> <td>3              </td> <td>Baclini, Miss. Eugenie         </td> <td>female</td> <td>0.75</td> <td>2    </td> <td>1    </td> <td>2666  </td> <td>19.2583</td> <td>nan  </td> <td>C       </td> <td>3          </td>\n",
       "        </tr>\n",
       "        <tr>\n",
       "            <td>79         </td> <td>1       </td> <td>2              </td> <td>Caldwell, Master. Alden Gates  </td> <td>male  </td> <td>0.83</td> <td>0    </td> <td>2    </td> <td>248738</td> <td>29     </td> <td>nan  </td> <td>S       </td> <td>2          </td>\n",
       "        </tr>\n",
       "    </tbody>\n",
       "</table>\n",
       "<p>... (886 rows omitted)</p>"
      ],
      "text/plain": [
       "<IPython.core.display.HTML object>"
      ]
     },
     "metadata": {},
     "output_type": "display_data"
    }
   ],
   "source": [
    "#d. Sort the data by age and show the youngest 5 passengers.\n",
    "Youngest_Passengers_Sorted=Passengers.sort('Age')\n",
    "Youngest_Passengers_Sorted.show(5) #This shows that the youngest 5 passengers are all under the age of 1."
   ]
  },
  {
   "cell_type": "code",
   "execution_count": 10,
   "metadata": {},
   "outputs": [
    {
     "data": {
      "text/html": [
       "<table border=\"1\" class=\"dataframe\">\n",
       "    <thead>\n",
       "        <tr>\n",
       "            <th>PassengerId</th> <th>Survived</th> <th>passenger_class</th> <th>Name</th> <th>Sex</th> <th>Age</th> <th>SibSp</th> <th>Parch</th> <th>Ticket</th> <th>Fare</th> <th>Cabin</th> <th>Embarked</th> <th>family_size</th>\n",
       "        </tr>\n",
       "    </thead>\n",
       "    <tbody>\n",
       "        <tr>\n",
       "            <td>631        </td> <td>1       </td> <td>1              </td> <td>Barkworth, Mr. Algernon Henry Wilson</td> <td>male</td> <td>80  </td> <td>0    </td> <td>0    </td> <td>27042   </td> <td>30     </td> <td>A23  </td> <td>S       </td> <td>0          </td>\n",
       "        </tr>\n",
       "        <tr>\n",
       "            <td>852        </td> <td>0       </td> <td>3              </td> <td>Svensson, Mr. Johan                 </td> <td>male</td> <td>74  </td> <td>0    </td> <td>0    </td> <td>347060  </td> <td>7.775  </td> <td>nan  </td> <td>S       </td> <td>0          </td>\n",
       "        </tr>\n",
       "        <tr>\n",
       "            <td>494        </td> <td>0       </td> <td>1              </td> <td>Artagaveytia, Mr. Ramon             </td> <td>male</td> <td>71  </td> <td>0    </td> <td>0    </td> <td>PC 17609</td> <td>49.5042</td> <td>nan  </td> <td>C       </td> <td>0          </td>\n",
       "        </tr>\n",
       "        <tr>\n",
       "            <td>97         </td> <td>0       </td> <td>1              </td> <td>Goldschmidt, Mr. George B           </td> <td>male</td> <td>71  </td> <td>0    </td> <td>0    </td> <td>PC 17754</td> <td>34.6542</td> <td>A5   </td> <td>C       </td> <td>0          </td>\n",
       "        </tr>\n",
       "        <tr>\n",
       "            <td>117        </td> <td>0       </td> <td>3              </td> <td>Connors, Mr. Patrick                </td> <td>male</td> <td>70.5</td> <td>0    </td> <td>0    </td> <td>370369  </td> <td>7.75   </td> <td>nan  </td> <td>Q       </td> <td>0          </td>\n",
       "        </tr>\n",
       "    </tbody>\n",
       "</table>\n",
       "<p>... (709 rows omitted)</p>"
      ],
      "text/plain": [
       "<IPython.core.display.HTML object>"
      ]
     },
     "metadata": {},
     "output_type": "display_data"
    },
    {
     "data": {
      "text/plain": [
       "80.0"
      ]
     },
     "execution_count": 10,
     "metadata": {},
     "output_type": "execute_result"
    }
   ],
   "source": [
    "#e. Now sort by age from oldest to youngest and show the oldest 5 passengers. What did you notice?\n",
    "#Eliminate these “nan” values and try again.\n",
    "Oldest_Passengers_Sorted=Passengers.sort('Age',descending=True)\n",
    "Oldest_Passengers_Sorted=Oldest_Passengers_Sorted.where('Age',are.above(0)) #Are above 0? Yes, so we decided to add a \n",
    "# conditional statement in order to prevent 'nan' (not a number) and state we are looking at ages above 0. \n",
    "Oldest_Passengers_Sorted.show(5) #Shows up the first 5 rows. Looks like olders person was 80.\n",
    "max(Oldest_Passengers_Sorted.column('Age')) #This is just an additional check to ensure that yes, the oldest person was 80."
   ]
  },
  {
   "cell_type": "code",
   "execution_count": 11,
   "metadata": {},
   "outputs": [
    {
     "name": "stdout",
     "output_type": "stream",
     "text": [
      "First, second, and third class survival percentages: [15.2637486   9.76430976 13.35578002]\n",
      "Total survival rate: 38.38383838383838\n"
     ]
    }
   ],
   "source": [
    "#f. Find the survival rate for passengers of the Titanic, broken down by passenger class. \n",
    "#(HINT: select the columns you care about and then apply the group method, summarizing with the mean.)\n",
    "Survival_of_the_fittest=Passengers.select(['Survived','passenger_class']) #Breaks down to see those who didn't survive and those who did, \n",
    "#then with respect to which passenger class. \n",
    "#So if we want the survival rate, we need the sum of both survivors and those who passed away.\n",
    "Survival_of_the_fittest=Survival_of_the_fittest.groups(['Survived','passenger_class'])\n",
    "Rates=Survival_of_the_fittest.where('Survived',1).column('count')/ \\\n",
    "    sum(Survival_of_the_fittest.column('count'))\n",
    "#Let's analyze what action I just did. I asked to find the from the reduced table, only the rows where there are those who\n",
    "# survived, then I wanted the count which was done by the groups above. I added the '\\' because it was an effective line break.\n",
    "#Then, I divided by the sum of the counts of all passenger classes and those alive and dead. \n",
    "print('First, second, and third class survival percentages:',Rates[0:3]*100)\n",
    "#So, there are a few ways to interpret this and how we got the percentages that we did. Looking at first class,\n",
    "# 15.26% implies that 15% of the first class survived, but it really says that of the people who survived,\n",
    "# 15% of them were from first class. But wait, shouldn't this then add to 100. Well, if we sum them up...\n",
    "print('Total survival rate:',sum(Rates)*100)\n",
    "# That settles, that, approximately 38% of the ship's original passengers survived... grim. "
   ]
  },
  {
   "cell_type": "code",
   "execution_count": 12,
   "metadata": {},
   "outputs": [
    {
     "data": {
      "text/html": [
       "<table border=\"1\" class=\"dataframe\">\n",
       "    <thead>\n",
       "        <tr>\n",
       "            <th>PassengerId</th> <th>Survived</th> <th>passenger_class</th> <th>Name</th> <th>Sex</th> <th>Age</th> <th>SibSp</th> <th>Parch</th> <th>Ticket</th> <th>Fare</th> <th>Cabin</th> <th>Embarked</th> <th>family_size</th>\n",
       "        </tr>\n",
       "    </thead>\n",
       "    <tbody>\n",
       "        <tr>\n",
       "            <td>1          </td> <td>0       </td> <td>3              </td> <td>Braund, Mr. Owen Harris                            </td> <td>male  </td> <td>22  </td> <td>1    </td> <td>0    </td> <td>A/5 21171       </td> <td>7.25   </td> <td>nan  </td> <td>S       </td> <td>1          </td>\n",
       "        </tr>\n",
       "        <tr>\n",
       "            <td>2          </td> <td>1       </td> <td>1              </td> <td>Cumings, Mrs. John Bradley (Florence Briggs Thayer)</td> <td>female</td> <td>38  </td> <td>1    </td> <td>0    </td> <td>PC 17599        </td> <td>71.2833</td> <td>C85  </td> <td>C       </td> <td>1          </td>\n",
       "        </tr>\n",
       "        <tr>\n",
       "            <td>3          </td> <td>1       </td> <td>3              </td> <td>Heikkinen, Miss. Laina                             </td> <td>female</td> <td>26  </td> <td>0    </td> <td>0    </td> <td>STON/O2. 3101282</td> <td>7.925  </td> <td>nan  </td> <td>S       </td> <td>0          </td>\n",
       "        </tr>\n",
       "        <tr>\n",
       "            <td>4          </td> <td>1       </td> <td>1              </td> <td>Futrelle, Mrs. Jacques Heath (Lily May Peel)       </td> <td>female</td> <td>35  </td> <td>1    </td> <td>0    </td> <td>113803          </td> <td>53.1   </td> <td>C123 </td> <td>S       </td> <td>1          </td>\n",
       "        </tr>\n",
       "        <tr>\n",
       "            <td>5          </td> <td>0       </td> <td>3              </td> <td>Allen, Mr. William Henry                           </td> <td>male  </td> <td>35  </td> <td>0    </td> <td>0    </td> <td>373450          </td> <td>8.05   </td> <td>nan  </td> <td>S       </td> <td>0          </td>\n",
       "        </tr>\n",
       "    </tbody>\n",
       "</table>\n",
       "<p>... (886 rows omitted)</p>"
      ],
      "text/plain": [
       "<IPython.core.display.HTML object>"
      ]
     },
     "metadata": {},
     "output_type": "display_data"
    },
    {
     "data": {
      "text/html": [
       "<table border=\"1\" class=\"dataframe\">\n",
       "    <thead>\n",
       "        <tr>\n",
       "            <th>Sex</th> <th>Survived</th> <th>count</th>\n",
       "        </tr>\n",
       "    </thead>\n",
       "    <tbody>\n",
       "        <tr>\n",
       "            <td>female</td> <td>0       </td> <td>81   </td>\n",
       "        </tr>\n",
       "        <tr>\n",
       "            <td>female</td> <td>1       </td> <td>233  </td>\n",
       "        </tr>\n",
       "        <tr>\n",
       "            <td>male  </td> <td>0       </td> <td>468  </td>\n",
       "        </tr>\n",
       "        <tr>\n",
       "            <td>male  </td> <td>1       </td> <td>109  </td>\n",
       "        </tr>\n",
       "    </tbody>\n",
       "</table>"
      ],
      "text/plain": [
       "<IPython.core.display.HTML object>"
      ]
     },
     "metadata": {},
     "output_type": "display_data"
    },
    {
     "name": "stdout",
     "output_type": "stream",
     "text": [
      "Male and female relative survival rates are [0.18890815] , [0.74203822]  respectively.\n"
     ]
    },
    {
     "data": {
      "image/png": "[encoded data removed]",
      "text/plain": [
       "<Figure size 432x288 with 1 Axes>"
      ]
     },
     "metadata": {},
     "output_type": "display_data"
    }
   ],
   "source": [
    "#g. Now that you have some familiarity with the dataset, create two of your own questions and answer them.\n",
    "Passengers.show(5)\n",
    "#I think an easy question, yet fairly important to consider is, how many men versus women survived?\n",
    "#Recall what we did in f. We will apply that same methodology and then determine relative survival rate. That is,\n",
    "#What percentage of men survived out of all the men aboard...\n",
    "Sex_Survival=Passengers.groups(['Sex','Survived'])\n",
    "Sex_Survival.show(5)\n",
    "#Let's create a bar chart just to practice again. \n",
    "import matplotlib.pyplot as plt #actually allows us to use the pyplot commands..\n",
    "N=4 #Let this be the number of categories\n",
    "ind=np.arange(N)\n",
    "Sex_Survival.sort('Sex').bar('Sex','count',align='edge',overlay=False)\n",
    "plt.xticks(ind, ('female dead','female alive','male dead','male alive'), rotation='vertical')\n",
    "#Wow, that was aggravating... Now to relative percentage surival\n",
    "FemaleRate=Sex_Survival.where('Survived',1).where('Sex','female').column('count')/ \\\n",
    "    sum(Sex_Survival.where('Sex','female').column('count'))\n",
    "MaleRate=Sex_Survival.where('Survived',1).where('Sex','male').column('count')/ \\\n",
    "    sum(Sex_Survival.where('Sex','male').column('count'))\n",
    "print('Male and female relative survival rates are',MaleRate,',',FemaleRate,' respectively.')"
   ]
  },
  {
   "cell_type": "code",
   "execution_count": 19,
   "metadata": {},
   "outputs": [
    {
     "data": {
      "text/plain": [
       "array([0.18294052, 0.09988777, 0.06621773, 0.02356902, 0.003367  ,\n",
       "       0.003367  , 0.00448934])"
      ]
     },
     "execution_count": 19,
     "metadata": {},
     "output_type": "execute_result"
    }
   ],
   "source": [
    "#Now let's apply this to family sizes.\n",
    "FamilySurvival=Passengers.groups(['family_size','Survived']) #Group based off of family size, then by survival rate\n",
    "Rates=FamilySurvival.where('Survived',1).column('count')/ \\\n",
    "    sum(FamilySurvival.column('count'))\n",
    "Rates"
   ]
  },
  {
   "cell_type": "code",
   "execution_count": 20,
   "metadata": {},
   "outputs": [
    {
     "data": {
      "text/html": [
       "<table border=\"1\" class=\"dataframe\">\n",
       "    <thead>\n",
       "        <tr>\n",
       "            <th>family_size</th> <th>Survived</th> <th>count</th>\n",
       "        </tr>\n",
       "    </thead>\n",
       "    <tbody>\n",
       "        <tr>\n",
       "            <td>0          </td> <td>1       </td> <td>163  </td>\n",
       "        </tr>\n",
       "        <tr>\n",
       "            <td>1          </td> <td>1       </td> <td>89   </td>\n",
       "        </tr>\n",
       "        <tr>\n",
       "            <td>2          </td> <td>1       </td> <td>59   </td>\n",
       "        </tr>\n",
       "        <tr>\n",
       "            <td>3          </td> <td>1       </td> <td>21   </td>\n",
       "        </tr>\n",
       "        <tr>\n",
       "            <td>4          </td> <td>1       </td> <td>3    </td>\n",
       "        </tr>\n",
       "        <tr>\n",
       "            <td>5          </td> <td>1       </td> <td>3    </td>\n",
       "        </tr>\n",
       "        <tr>\n",
       "            <td>6          </td> <td>1       </td> <td>4    </td>\n",
       "        </tr>\n",
       "    </tbody>\n",
       "</table>"
      ],
      "text/plain": [
       "family_size | Survived | count\n",
       "0           | 1        | 163\n",
       "1           | 1        | 89\n",
       "2           | 1        | 59\n",
       "3           | 1        | 21\n",
       "4           | 1        | 3\n",
       "5           | 1        | 3\n",
       "6           | 1        | 4"
      ]
     },
     "execution_count": 20,
     "metadata": {},
     "output_type": "execute_result"
    }
   ],
   "source": [
    "FamilySurvival.where('Survived',1) #Just for additional reference."
   ]
  }
 ],
 "metadata": {
  "kernelspec": {
   "display_name": "Python 3",
   "language": "python",
   "name": "python3"
  },
  "language_info": {
   "codemirror_mode": {
    "name": "ipython",
    "version": 3
   },
   "file_extension": ".py",
   "mimetype": "text/x-python",
   "name": "python",
   "nbconvert_exporter": "python",
   "pygments_lexer": "ipython3",
   "version": "3.6.5"
  }
 },
 "nbformat": 4,
 "nbformat_minor": 2
}

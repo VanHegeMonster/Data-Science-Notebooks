{
 "cells": [
  {
   "cell_type": "code",
   "execution_count": 1,
   "metadata": {},
   "outputs": [],
   "source": [
    "from scipy import stats"
   ]
  },
  {
   "cell_type": "markdown",
   "metadata": {},
   "source": [
    "## Probability Distribution Practice\n",
    "\n",
    "### Lt Col Horton\n",
    "\n",
    "In this notebook, I will provide some practice problems that will help reinforce your understanding of probability distributions. Throughout this practice, I highly encourage you to refer to the `scipy` documentation online. While you are there, feel free to explore areas we don't cover in this notebook (particularly plotting and randomization). \n",
    "\n",
    "For each of the tasks below **_1)_** define a random variable that will help you answer the question; **_2)_** state the distribution and parameters of that random variable; **_3)_** determine the expected value and variance of that random variable. \n",
    "\n",
    "I will demonstrate using **_1.1_** below. "
   ]
  },
  {
   "cell_type": "markdown",
   "metadata": {},
   "source": [
    "#### Problem 1"
   ]
  },
  {
   "cell_type": "markdown",
   "metadata": {},
   "source": [
    "The T-6 training aircraft is used during UPT. Suppose that on each training sortie, aircraft return with a maintenance-related failure at a rate of 1 per 100 sorties. \n",
    "\n",
    "**_1.1_** Find the probability of no maintenance failures in 15 sorties. \n",
    "\n",
    "**_1.2_** Find the probability of at least two maintenance failures in 15 sorties. \n",
    "\n",
    "**_1.3_** Find the probability of at least 30 successful (no mx failures) sorties before the first failure.\n",
    "\n",
    "**_1.4_** Find the probability of at least 50 successful sorties before the third failure. \n",
    "\n"
   ]
  },
  {
   "cell_type": "markdown",
   "metadata": {},
   "source": [
    "##### Demonstration using 1.1\n",
    "\n",
    "Find the probability of no maintenance failures in 15 sorties.\n",
    "\n",
    "$X$: the number of maintenance failures in 15 sorties. \n",
    "\n",
    "$X\\sim \\textsf{Bin}(n=15, p=0.01)$\n",
    "\n",
    "$E(X) = np = 15*0.01 = 0.15$\n",
    "\n",
    "$V(X) = np(1-p) = 15*0.01*0.99 = 0.1485$"
   ]
  },
  {
   "cell_type": "markdown",
   "metadata": {},
   "source": [
    "Probability of no maintenance failures, $P(X=0)$:  "
   ]
  },
  {
   "cell_type": "code",
   "execution_count": 5,
   "metadata": {},
   "outputs": [
    {
     "data": {
      "text/plain": [
       "0.8600583546412884"
      ]
     },
     "execution_count": 5,
     "metadata": {},
     "output_type": "execute_result"
    }
   ],
   "source": [
    "stats.binom.pmf(0,15,0.01)"
   ]
  },
  {
   "cell_type": "markdown",
   "metadata": {},
   "source": [
    "The probability of getting no maintenance failures in 15 sorties is about 0.86. It is worth taking a moment to make sure this value makes sense. Since failures are fairly unlikely, and the **expected** number of failures (0.15) is close to 0, then 0 failures should be a fairly likely outcome and a probability of 0.86 makes sense. "
   ]
  },
  {
   "cell_type": "markdown",
   "metadata": {},
   "source": [
    "**_1.2_** Find the probability of at least two maintenance failures in 15 sorties. "
   ]
  },
  {
   "cell_type": "markdown",
   "metadata": {},
   "source": [
    "$P(X\\geq 2)$"
   ]
  },
  {
   "cell_type": "code",
   "execution_count": 12,
   "metadata": {},
   "outputs": [
    {
     "data": {
      "text/plain": [
       "0.009629773443364797"
      ]
     },
     "execution_count": 12,
     "metadata": {},
     "output_type": "execute_result"
    }
   ],
   "source": [
    "1-stats.binom.cdf(1,15,.01)"
   ]
  },
  {
   "cell_type": "code",
   "execution_count": 14,
   "metadata": {},
   "outputs": [
    {
     "data": {
      "text/plain": [
       "0.009629773443364603"
      ]
     },
     "execution_count": 14,
     "metadata": {},
     "output_type": "execute_result"
    }
   ],
   "source": [
    "1-stats.binom.pmf(0,15,.01)-stats.binom.pmf(1,15,.01)"
   ]
  },
  {
   "cell_type": "markdown",
   "metadata": {},
   "source": [
    "**_1.3_** Find the probability of at least 30 successful (no mx failures) sorties before the first failure.\n"
   ]
  },
  {
   "cell_type": "markdown",
   "metadata": {},
   "source": [
    "For the context of a negative binomial, we will consider a success in this context to be a mx issue.\n",
    "There are 30 trials till this occurs\n",
    "$x=\\text{number of trials till n successes}=30$\n",
    "$n=1$\n",
    "$p=.01$"
   ]
  },
  {
   "cell_type": "code",
   "execution_count": 19,
   "metadata": {},
   "outputs": [
    {
     "data": {
      "text/plain": [
       "0.7397003733882803"
      ]
     },
     "execution_count": 19,
     "metadata": {},
     "output_type": "execute_result"
    }
   ],
   "source": [
    "1-stats.nbinom.cdf(29,1,.01)"
   ]
  },
  {
   "cell_type": "markdown",
   "metadata": {},
   "source": [
    "Here, we doing $1-P(X\\leq 29)=P(X\\geq 30)$"
   ]
  },
  {
   "cell_type": "markdown",
   "metadata": {},
   "source": [
    "**_1.4_** Find the probability of at least 50 successful sorties before the third failure. "
   ]
  },
  {
   "cell_type": "code",
   "execution_count": 23,
   "metadata": {},
   "outputs": [
    {
     "data": {
      "text/plain": [
       "0.9846473742663409"
      ]
     },
     "execution_count": 23,
     "metadata": {},
     "output_type": "execute_result"
    }
   ],
   "source": [
    "1-stats.nbinom.cdf(49,3,.01)"
   ]
  },
  {
   "cell_type": "code",
   "execution_count": 27,
   "metadata": {},
   "outputs": [
    {
     "data": {
      "text/plain": [
       "array(29700.)"
      ]
     },
     "execution_count": 27,
     "metadata": {},
     "output_type": "execute_result"
    }
   ],
   "source": [
    "#Expected Values\n",
    "mean, var, skew, kurt = stats.nbinom.stats(3,.01, moments='mvsk')\n",
    "var"
   ]
  },
  {
   "cell_type": "markdown",
   "metadata": {},
   "source": [
    "#### Problem 2"
   ]
  },
  {
   "cell_type": "markdown",
   "metadata": {},
   "source": [
    "On a given Saturday, suppose vehicles arrive at the USAFA North Gate according to a Poisson process at a rate of 40 arrivals per hour. \n",
    "\n",
    "**_2.1_** Find the probability no vehicles arrive in 10 minutes. \n",
    "\n",
    "**_2.2_** Find the probability at least 50 vehicles arrive in an hour. \n",
    "\n",
    "**_2.3_** Find the probability that at least 5 minutes will pass before the next arrival.\n",
    "\n",
    "**_2.4_** Find the probability that the next vehicle will arrive between 2 and 10 minutes from now. \n",
    "\n",
    "**_2.5_** Find the probability that at least 7 minutes will pass before the next arrival, given that 2 minute have already passed. Compare this answer to **_2.3_**. This is an example of the *memoryless* property of the exponential distribution.\n",
    "\n",
    "**_2.6_** Fill in the blank. There is a probability of 90% that the next vehicle will arrive within __ minutes. This value is known as the 90% percentile of the random variable. \n"
   ]
  },
  {
   "cell_type": "markdown",
   "metadata": {},
   "source": [
    "**_2.1_** Find the probability no vehicles arrive in 10 minutes. "
   ]
  },
  {
   "cell_type": "code",
   "execution_count": 29,
   "metadata": {},
   "outputs": [
    {
     "data": {
      "text/plain": [
       "0.0012726338013398079"
      ]
     },
     "execution_count": 29,
     "metadata": {},
     "output_type": "execute_result"
    }
   ],
   "source": [
    "#Poisson process... \n",
    "lamb=40/6 #arrivals per 10 minutes\n",
    "x=0 #no arrivals\n",
    "stats.poisson.pmf(x,lamb)"
   ]
  },
  {
   "cell_type": "markdown",
   "metadata": {},
   "source": [
    "**_2.2_** Find the probability at least 50 vehicles arrive in an hour. "
   ]
  },
  {
   "cell_type": "code",
   "execution_count": 31,
   "metadata": {},
   "outputs": [
    {
     "data": {
      "text/plain": [
       "0.07033506665939493"
      ]
     },
     "execution_count": 31,
     "metadata": {},
     "output_type": "execute_result"
    }
   ],
   "source": [
    "lamb=40 #change back because of our interval is now an hour\n",
    "x=49 \n",
    "1-stats.poisson.cdf(x,lamb)"
   ]
  },
  {
   "cell_type": "markdown",
   "metadata": {},
   "source": [
    "So why 49? Because of the least part of the statement. We are are looking at the cumulative distribution prior to, and negating that statement. "
   ]
  },
  {
   "cell_type": "markdown",
   "metadata": {},
   "source": [
    "**_2.3_** Find the probability that at least 5 minutes will pass before the next arrival.\n"
   ]
  },
  {
   "cell_type": "code",
   "execution_count": 34,
   "metadata": {},
   "outputs": [
    {
     "data": {
      "text/plain": [
       "0.035673993347252395"
      ]
     },
     "execution_count": 34,
     "metadata": {},
     "output_type": "execute_result"
    }
   ],
   "source": [
    "#Poisson normalizes the time units (as long as you can get the expected values)\n",
    "lamb=40/12 #interval is 5 min\n",
    "x=0 #how many cars in that 5 min\n",
    "#within this interval of 5 min, we want the probability of 0 in 5 min (because it's zero is why we don't use cdf's)\n",
    "stats.poisson.pmf(x,lamb)"
   ]
  },
  {
   "cell_type": "code",
   "execution_count": 45,
   "metadata": {},
   "outputs": [
    {
     "data": {
      "text/plain": [
       "0.03567399334725241"
      ]
     },
     "execution_count": 45,
     "metadata": {},
     "output_type": "execute_result"
    }
   ],
   "source": [
    "#We can also do this as an exponential \n",
    "lamb=40/60 #normalized in minutes\n",
    "1-stats.expon.cdf(5,scale=1/lamb) #1-(cdf that it takes up to 5 minutes before the next arrival)=takes at least 5 min \n",
    "#before next arrival."
   ]
  },
  {
   "cell_type": "markdown",
   "metadata": {},
   "source": [
    "**_2.4_** Find the probability that the next vehicle will arrive between 2 and 10 minutes from now. \n"
   ]
  },
  {
   "cell_type": "code",
   "execution_count": 43,
   "metadata": {},
   "outputs": [
    {
     "data": {
      "text/plain": [
       "0.2623245043143869"
      ]
     },
     "execution_count": 43,
     "metadata": {},
     "output_type": "execute_result"
    }
   ],
   "source": [
    "#For this we move to an exponential distribution. (Next arrival=exponential )\n",
    "#find average number of cars in the interval\n",
    "lamb=40/60 #normalized in terms of minutes\n",
    "\n",
    "stats.expon.cdf(10,scale=1/lamb)-stats.expon.cdf(2,scale=1/lamb)"
   ]
  },
  {
   "cell_type": "markdown",
   "metadata": {},
   "source": [
    "**_2.5_** Find the probability that at least 7 minutes will pass before the next arrival, given that 2 minute have already passed. Compare this answer to **_2.3_**. This is an example of the *memoryless* property of the exponential distribution.\n"
   ]
  },
  {
   "cell_type": "markdown",
   "metadata": {},
   "source": [
    "$P(Y\\geq 7|Y\\geq 2) = \\frac{P(Y\\geq 7, Y\\geq 2)}{P(Y\\geq 2)} = \\frac{P(Y\\geq 7)}{P(Y\\geq 2)}$:  "
   ]
  },
  {
   "cell_type": "markdown",
   "metadata": {},
   "source": [
    "For the top part above, $P(Y\\geq 7, Y\\geq 2)=P(Y\\geq 7)$ occurs because the only time Y is $\\geq$ to 7 and 2, is when its $\\geq7$"
   ]
  },
  {
   "cell_type": "code",
   "execution_count": 52,
   "metadata": {},
   "outputs": [
    {
     "data": {
      "text/plain": [
       "0.03567399334725243"
      ]
     },
     "execution_count": 52,
     "metadata": {},
     "output_type": "execute_result"
    }
   ],
   "source": [
    "#cdf's do less than or equal to.\n",
    "(1-stats.expon.cdf(7,scale=1/lamb))/(1-stats.expon.cdf(2,scale=1/lamb))"
   ]
  },
  {
   "cell_type": "markdown",
   "metadata": {},
   "source": [
    "**_2.6_** Fill in the blank. There is a probability of 90% that the next vehicle will arrive within __ minutes. This value is known as the 90% percentile of the random variable. "
   ]
  },
  {
   "cell_type": "code",
   "execution_count": 61,
   "metadata": {},
   "outputs": [
    {
     "data": {
      "text/plain": [
       "3.453877639491069"
      ]
     },
     "execution_count": 61,
     "metadata": {},
     "output_type": "execute_result"
    }
   ],
   "source": [
    "stats.expon.ppf(.9,scale=1/lamb)"
   ]
  },
  {
   "cell_type": "markdown",
   "metadata": {},
   "source": [
    "#### Problem 3"
   ]
  },
  {
   "cell_type": "markdown",
   "metadata": {},
   "source": [
    "Suppose there are 12 male and 7 female cadets in a classroom. I select 5 completely at random (without replacement). \n",
    "\n",
    "**_3.1_** Find the probability I select no female cadets. \n",
    "\n",
    "**_3.2_** Find the probability I select more than 2 female cadets. "
   ]
  },
  {
   "cell_type": "markdown",
   "metadata": {},
   "source": [
    "**_3.1_** Find the probability I select no female cadets. "
   ]
  },
  {
   "cell_type": "code",
   "execution_count": 62,
   "metadata": {},
   "outputs": [
    {
     "data": {
      "text/plain": [
       "0.06811145510835913"
      ]
     },
     "execution_count": 62,
     "metadata": {},
     "output_type": "execute_result"
    }
   ],
   "source": [
    "TotalPopulation=12+7\n",
    "successes=7\n",
    "sampleSize=5\n",
    "sampleSuccess=0\n",
    "stats.hypergeom.pmf(sampleSuccess,M=TotalPopulation,n=successes,N=sampleSize)"
   ]
  },
  {
   "cell_type": "code",
   "execution_count": 67,
   "metadata": {},
   "outputs": [
    {
     "data": {
      "text/plain": [
       "0.06811145510835913"
      ]
     },
     "execution_count": 67,
     "metadata": {},
     "output_type": "execute_result"
    }
   ],
   "source": [
    "(12/19)*(11/18)*(10/17)*(9/16)*(8/15)"
   ]
  },
  {
   "cell_type": "markdown",
   "metadata": {},
   "source": [
    "**_3.2_** Find the probability I select more than 2 female cadets. "
   ]
  },
  {
   "cell_type": "code",
   "execution_count": 66,
   "metadata": {},
   "outputs": [
    {
     "data": {
      "text/plain": [
       "0.23658410732714208"
      ]
     },
     "execution_count": 66,
     "metadata": {},
     "output_type": "execute_result"
    }
   ],
   "source": [
    "TotalPopulation=12+7\n",
    "successes=7\n",
    "sampleSize=5\n",
    "sampleSuccess=2 #we select 2 cadets\n",
    "1-stats.hypergeom.cdf(sampleSuccess,M=TotalPopulation,n=successes,N=sampleSize)"
   ]
  },
  {
   "cell_type": "markdown",
   "metadata": {},
   "source": [
    "#### Problem 4"
   ]
  },
  {
   "cell_type": "markdown",
   "metadata": {},
   "source": [
    "Suppose PFT scores in the cadet wing follow a normal distribution with mean 330 and standard deviation 50. \n",
    "\n",
    "**_4.1_** Find the probability a randomly selected cadet has a PFT score higher than 450. \n",
    "\n",
    "**_4.2_** Find the probability a randomly selected cadet has a PFT score within 2 standard deviations of the mean.\n",
    "\n",
    "**_4.3_** Find $a$ and $b$ such that 90% of PFT scores will be between $a$ and $b$. \n",
    "\n",
    "**_4.4_** Find the probability a randomly selected cadet has a PFT score higher than 450 given he/she is among the top 10% of cadets. "
   ]
  },
  {
   "cell_type": "markdown",
   "metadata": {},
   "source": [
    "**_4.1_** Find the probability a randomly selected cadet has a PFT score higher than 450. "
   ]
  },
  {
   "cell_type": "code",
   "execution_count": 71,
   "metadata": {},
   "outputs": [
    {
     "name": "stdout",
     "output_type": "stream",
     "text": [
      "0.008197535924596155\n"
     ]
    },
    {
     "data": {
      "text/plain": [
       "0.008197535924596155"
      ]
     },
     "execution_count": 71,
     "metadata": {},
     "output_type": "execute_result"
    }
   ],
   "source": [
    "x=450 #random\n",
    "mu=330 #mean\n",
    "sigma=50 #std deviation\n",
    "\n",
    "#side note: create distribution function\n",
    "dist=stats.norm(mu,sigma)\n",
    "\n",
    "print(1-dist.cdf(x))\n",
    "#should be equivalent to:\n",
    "1-stats.norm.cdf(x,mu,sigma)"
   ]
  },
  {
   "cell_type": "markdown",
   "metadata": {},
   "source": [
    "**_4.2_** Find the probability a randomly selected cadet has a PFT score within 2 standard deviations of the mean.\n"
   ]
  },
  {
   "cell_type": "code",
   "execution_count": 73,
   "metadata": {},
   "outputs": [
    {
     "data": {
      "text/plain": [
       "0.9544997361036416"
      ]
     },
     "execution_count": 73,
     "metadata": {},
     "output_type": "execute_result"
    }
   ],
   "source": [
    "#Think of this like finding the area underneath of the probability curve\n",
    "dist.cdf(mu+2*sigma)-dist.cdf(mu-2*sigma)"
   ]
  },
  {
   "cell_type": "markdown",
   "metadata": {},
   "source": [
    "**_4.3_** Find $a$ and $b$ such that 90% of PFT scores will be between $a$ and $b$. \n"
   ]
  },
  {
   "cell_type": "code",
   "execution_count": 77,
   "metadata": {},
   "outputs": [
    {
     "name": "stdout",
     "output_type": "stream",
     "text": [
      "a= 412.2426813475736\n",
      "b= 247.75731865242636\n",
      "394.07757827723003\n"
     ]
    }
   ],
   "source": [
    "print('a=',dist.ppf(.95)) # 95% of the data are BELOW this number\n",
    "print('b=',dist.ppf(.05)) #95% are above this number\n",
    "\n",
    "#this is trivial, just for comparison. The problem doesn't state centering about the mean. \n",
    "print(dist.ppf(.9)) #90% are under this number"
   ]
  },
  {
   "cell_type": "markdown",
   "metadata": {},
   "source": [
    "**_4.4_** Find the probability a randomly selected cadet has a PFT score higher than 450 given he/she is among the top 10% of cadets. "
   ]
  },
  {
   "cell_type": "markdown",
   "metadata": {},
   "source": [
    "$P(PFT>450 | \\text{top 10})=\\frac{P(PFT>450,X>top10)}{(P(X>top10))}$"
   ]
  },
  {
   "cell_type": "code",
   "execution_count": 80,
   "metadata": {},
   "outputs": [
    {
     "data": {
      "text/plain": [
       "0.008197535924596155"
      ]
     },
     "execution_count": 80,
     "metadata": {},
     "output_type": "execute_result"
    }
   ],
   "source": [
    "PgreaterThan450=1-dist.cdf(450)\n",
    "PgreaterThan450"
   ]
  },
  {
   "cell_type": "code",
   "execution_count": 82,
   "metadata": {},
   "outputs": [
    {
     "data": {
      "text/plain": [
       "0.08197535924596155"
      ]
     },
     "execution_count": 82,
     "metadata": {},
     "output_type": "execute_result"
    }
   ],
   "source": [
    "#since PgreaterThan450 is less than .1 (which comes from top 10%), the intersect of the sets of probabilities\n",
    "#are {numbers<.00819}={<=.00819...}\n",
    "PgreaterThan450/.1"
   ]
  },
  {
   "cell_type": "markdown",
   "metadata": {},
   "source": [
    "#### Problem 5"
   ]
  },
  {
   "cell_type": "markdown",
   "metadata": {},
   "source": [
    "Suppose time until computer errors on the F-35 follows a Gamma distribution with mean 20 hours and variance 10.  \n",
    "\n",
    "**_5.1_** Find the probability that 50 hours pass without a computer error. \n",
    "\n",
    "**_5.2_** Find the probability that 75 hours pass without a computer error, given that 25 hours have already passed. Dose the memoryless property apply to the Gamma distribution? \n",
    "\n",
    "**_5.3_** Find $a$ and $b$: There is a 95% probability time until next computer error will be between $a$ and $b$.  "
   ]
  },
  {
   "cell_type": "markdown",
   "metadata": {},
   "source": [
    "**_5.1_** Find the probability that 50 hours pass without a computer error. "
   ]
  },
  {
   "cell_type": "markdown",
   "metadata": {},
   "source": [
    "$Mean=\\frac{\\alpha}{\\lambda}$\n",
    "$Variance=\\frac{\\alpha}{\\lambda^2}$"
   ]
  },
  {
   "cell_type": "code",
   "execution_count": 87,
   "metadata": {},
   "outputs": [
    {
     "data": {
      "text/plain": [
       "0.07365494485857027"
      ]
     },
     "execution_count": 87,
     "metadata": {},
     "output_type": "execute_result"
    }
   ],
   "source": [
    "#Since we are given mean and variance, you have to solve by hand to get alpha and lambda\n",
    "lamb=2 #solve system if you're curious\n",
    "alpha=40\n",
    "#mean is alpha/lambda\n",
    "\n",
    "1-stats.gamma.cdf(50,alpha,1/lamb) #don't forget scaling factor is 1/lambda for this shit"
   ]
  },
  {
   "cell_type": "markdown",
   "metadata": {},
   "source": [
    "**_5.2_** Find the probability that 75 hours pass without a computer error, given that 25 hours have already passed. Dose the memoryless property apply to the Gamma distribution? "
   ]
  },
  {
   "cell_type": "code",
   "execution_count": 90,
   "metadata": {},
   "outputs": [
    {
     "data": {
      "text/plain": [
       "4.577191724634049e-06"
      ]
     },
     "execution_count": 90,
     "metadata": {},
     "output_type": "execute_result"
    }
   ],
   "source": [
    "(1-stats.gamma.cdf(75,alpha,1/lamb))/(1-stats.gamma.cdf(25,alpha,1/lamb))"
   ]
  },
  {
   "cell_type": "markdown",
   "metadata": {},
   "source": [
    "**_5.3_** Find $a$ and $b$: There is a 95% probability time until next computer error will be between $a$ and $b$.  "
   ]
  },
  {
   "cell_type": "code",
   "execution_count": 93,
   "metadata": {},
   "outputs": [
    {
     "name": "stdout",
     "output_type": "stream",
     "text": [
      "Left end: 29.076586441788965\n",
      "Right end: 53.81428386583284\n"
     ]
    }
   ],
   "source": [
    "#95% is between these two points, compared to where we did the similar thing above with 90%.\n",
    "print('Left end:',stats.gamma.ppf(.025,alpha,1/lamb))\n",
    "print('Right end:',stats.gamma.ppf(.975,alpha,1/lamb))"
   ]
  },
  {
   "cell_type": "code",
   "execution_count": null,
   "metadata": {},
   "outputs": [],
   "source": []
  }
 ],
 "metadata": {
  "kernelspec": {
   "display_name": "Python 3",
   "language": "python",
   "name": "python3"
  },
  "language_info": {
   "codemirror_mode": {
    "name": "ipython",
    "version": 3
   },
   "file_extension": ".py",
   "mimetype": "text/x-python",
   "name": "python",
   "nbconvert_exporter": "python",
   "pygments_lexer": "ipython3",
   "version": "3.6.5"
  }
 },
 "nbformat": 4,
 "nbformat_minor": 2
}

{
 "cells": [
  {
   "cell_type": "code",
   "execution_count": 3,
   "metadata": {},
   "outputs": [],
   "source": [
    "#Problem 6:\n",
    "from scipy import stats\n",
    "import numpy as np\n",
    "from datascience import *\n",
    "import math"
   ]
  },
  {
   "cell_type": "code",
   "execution_count": 6,
   "metadata": {},
   "outputs": [
    {
     "data": {
      "text/plain": [
       "0.0012726338013398079"
      ]
     },
     "execution_count": 6,
     "metadata": {},
     "output_type": "execute_result"
    }
   ],
   "source": [
    "lamb=40/6\n",
    "x=0\n",
    "stats.poisson.cdf(x,lamb)"
   ]
  },
  {
   "cell_type": "code",
   "execution_count": 12,
   "metadata": {},
   "outputs": [
    {
     "data": {
      "text/plain": [
       "0.03567399334725241"
      ]
     },
     "execution_count": 12,
     "metadata": {},
     "output_type": "execute_result"
    }
   ],
   "source": [
    "lamb_exp=40/60\n",
    "time=5\n",
    "1-stats.expon.cdf(time,scale=1/lamb_exp)"
   ]
  },
  {
   "cell_type": "code",
   "execution_count": 13,
   "metadata": {},
   "outputs": [
    {
     "data": {
      "text/plain": [
       "3.453877639491069"
      ]
     },
     "execution_count": 13,
     "metadata": {},
     "output_type": "execute_result"
    }
   ],
   "source": [
    "stats.expon.ppf(.9,scale=1/lamb_exp)"
   ]
  },
  {
   "cell_type": "code",
   "execution_count": 18,
   "metadata": {},
   "outputs": [
    {
     "data": {
      "text/plain": [
       "array([1001, 1701,  541, 1286,  881, 1923,   14, 1369,  788,   54,  297,\n",
       "       1645, 1345, 1917, 1114, 1211,  830,  307, 1665, 1884,  349,  423,\n",
       "        193, 1266,  561,  301, 1304,  413, 1594, 1348, 1081,  288, 1815,\n",
       "        196,  945, 1743,   18,  158,  401,  374])"
      ]
     },
     "execution_count": 18,
     "metadata": {},
     "output_type": "execute_result"
    }
   ],
   "source": [
    "#Problem 15\n",
    "np.random.seed(2020)\n",
    "plane_serial_numbers=np.random.choice(np.arange(2000),40,replace=False)\n",
    "plane_serial_numbers"
   ]
  },
  {
   "cell_type": "code",
   "execution_count": 16,
   "metadata": {},
   "outputs": [
    {
     "data": {
      "text/plain": [
       "1826.2"
      ]
     },
     "execution_count": 16,
     "metadata": {},
     "output_type": "execute_result"
    }
   ],
   "source": [
    "TestStatistic=2*np.mean(plane_serial_numbers)-1\n",
    "TestStatistic"
   ]
  },
  {
   "cell_type": "code",
   "execution_count": 24,
   "metadata": {},
   "outputs": [
    {
     "name": "stdout",
     "output_type": "stream",
     "text": [
      "1033.4150000000002\n",
      "753.83 1066.525\n"
     ]
    }
   ],
   "source": [
    "sampledtest=[]\n",
    "for i in np.arange(5000):\n",
    "    Boostrapmean=np.mean(np.random.choice(plane_serial_numbers,size=len(plane_serial_numbers),replace=True))\n",
    "    sampledtest=np.append(sampledtest,Boostrapmean)\n",
    "print(np.percentile(sampledtest,q=90))\n",
    "print(np.percentile(sampledtest,q=5),(np.percentile(sampledtest,q=95)))\n",
    "\n",
    "\n"
   ]
  },
  {
   "cell_type": "code",
   "execution_count": 25,
   "metadata": {},
   "outputs": [
    {
     "data": {
      "text/plain": [
       "40"
      ]
     },
     "execution_count": 25,
     "metadata": {},
     "output_type": "execute_result"
    }
   ],
   "source": [
    "len(plane_serial_numbers)"
   ]
  },
  {
   "cell_type": "code",
   "execution_count": null,
   "metadata": {},
   "outputs": [],
   "source": []
  }
 ],
 "metadata": {
  "kernelspec": {
   "display_name": "Python 3",
   "language": "python",
   "name": "python3"
  },
  "language_info": {
   "codemirror_mode": {
    "name": "ipython",
    "version": 3
   },
   "file_extension": ".py",
   "mimetype": "text/x-python",
   "name": "python",
   "nbconvert_exporter": "python",
   "pygments_lexer": "ipython3",
   "version": "3.6.5"
  }
 },
 "nbformat": 4,
 "nbformat_minor": 2
}

{
 "cells": [
  {
   "cell_type": "code",
   "execution_count": 1,
   "metadata": {},
   "outputs": [],
   "source": [
    "from datascience import *\n",
    "import numpy as np\n",
    "from math import *"
   ]
  },
  {
   "cell_type": "markdown",
   "metadata": {},
   "source": [
    "## Joint Distributions"
   ]
  },
  {
   "cell_type": "markdown",
   "metadata": {},
   "source": [
    "Recall from Lessons 13 & 14: let $X$ be a random variable. $X$ has a distribution that is described by a probability mass function (pmf) or probability density function (pdf). \n",
    "\n",
    "We can consider multiple random variables simultaneously using joint distributions. \n",
    "\n",
    "NOTE: When answering the questions below, you are not required to use Python. If you would like to answer in Markdown, feel free to change the type of the cell, or to use both types of cells. "
   ]
  },
  {
   "cell_type": "markdown",
   "metadata": {},
   "source": [
    "#### Example 1: Discrete Joint Distribution"
   ]
  },
  {
   "cell_type": "markdown",
   "metadata": {},
   "source": [
    "Let $X$ and $Y$ be discrete random variables that can each only take the values 0, 1 or 2, and do so according to the following distribution:"
   ]
  },
  {
   "cell_type": "markdown",
   "metadata": {},
   "source": [
    "\n",
    " |  | $X$  | 1 | 2 | 3 |\n",
    " |-- | ------ | ------ |\n",
    " |  | 1 | 0.17 | 0.15 | 0.08 |\n",
    " | $Y$ | 2 | 0.00 | 0.10 | 0.10 |\n",
    " |  | 3 | 0.08 | 0.20 | 0.12 |\n",
    " \n"
   ]
  },
  {
   "cell_type": "markdown",
   "metadata": {},
   "source": [
    "This is an example of a joint probability mass function (joint pmf), and is denoted as $f_{X,Y}(x,y)$. \n",
    "\n",
    "For example, the probability that $X$ takes the value 1 AND $Y$ takes the value 3, or $P(X=1,Y=3)$ is equal to 0.08. "
   ]
  },
  {
   "cell_type": "markdown",
   "metadata": {},
   "source": [
    "**_1.1_** Find $P(X = 2,Y=3)$. \n",
    "\n",
    "**_1.2_** Find $E(X+Y)$. "
   ]
  },
  {
   "cell_type": "markdown",
   "metadata": {},
   "source": [
    "**Solution 1.1** $P(X=2,Y=3)=0.20$"
   ]
  },
  {
   "cell_type": "markdown",
   "metadata": {},
   "source": [
    "**Solution 1.2** By definition of $E(X)$, $$E(X) = \\mu = \\sum_{x}xf(x),$$ which by inspection has scalar multiplication and addition for our specific case of a distribution table is a linear property. That is, $E(X+Y)=E(X)+E(Y)$. $E(X)=(.17+.08)+2(.15+.1+.2)+3(.08+.1+.12)=2.05$ \n",
    "\n",
    "and\n",
    "\n",
    "$\n",
    "E(Y)=(.17+.15+.08)+2*(.1+.1)+3*(.08+.2+.12)=2\n",
    "$.\n",
    "\n",
    "Therefore, $E(X+Y)=2+2.05=4.05$"
   ]
  },
  {
   "cell_type": "markdown",
   "metadata": {},
   "source": [
    "### Marginal Probability"
   ]
  },
  {
   "cell_type": "markdown",
   "metadata": {},
   "source": [
    "When given a joint pmf like this, we may want to know the distribution of $X$ or $Y$ individually. Specifically, we might want to know $P(X=1)$ or $f_Y(y)$. \n",
    "\n",
    "Marginal probability can be found by summing across the remaining variable. Specifically,\n",
    "\n",
    "$$\n",
    "f_X(x)=\\sum_y f_{X,Y}(x,y)\n",
    "$$\n",
    "and \n",
    "$$\n",
    "f_Y(y)=\\sum_x f_{X,Y}(x,y)\n",
    "$$\n"
   ]
  },
  {
   "cell_type": "markdown",
   "metadata": {},
   "source": [
    "**_1.3_** Find $P(X=2)$. \n",
    "\n",
    "**_1.4_** Find $f_Y(y)$ (the marginal pmf of $Y$). \n",
    "\n",
    "**_1.5_** Find $E(Y)$ and $V(Y)$. "
   ]
  },
  {
   "cell_type": "markdown",
   "metadata": {},
   "source": [
    "**Solution 1.3** $P(X=2)=.15+.1+.2=.45$ which is the sum of the column X=2. "
   ]
  },
  {
   "cell_type": "markdown",
   "metadata": {
    "scrolled": true
   },
   "source": [
    "** Solution 1.4**\n"
   ]
  },
  {
   "cell_type": "markdown",
   "metadata": {},
   "source": [
    "| $Y$ |$f_Y(y)$|\n",
    "|----|----|\n",
    "| 1 | 0.40 |\n",
    "| 2 | 0.20 |\n",
    "| 3 | 0.40 |"
   ]
  },
  {
   "cell_type": "markdown",
   "metadata": {},
   "source": [
    "**Solution 1.5** $E(Y)=.4+2*.2+3*.4=2$\n",
    "\n",
    "Recall by definition: $$V(X) = \\sigma ^{2} =\\sum_{x}(x - \\mu)^{2}f(x), $$\n",
    "Therefore\n",
    "$V(Y)=(1-2)^2*.4+(2-2)^2*.2+(3-2)^2*.4=.8$"
   ]
  },
  {
   "cell_type": "markdown",
   "metadata": {},
   "source": [
    "### Conditional Probability\n",
    "\n",
    "We may be interested in the probability $X$ takes a specific value conditioned on the value of $Y$. Recall that conditional probability is given by $P(A|B)=\\frac{P(A,B)}{P(B)}$. \n",
    "\n",
    "So, essentially, conditional probability can be found by dividing the joint probability by the appropriate marginal probability. "
   ]
  },
  {
   "cell_type": "markdown",
   "metadata": {},
   "source": [
    "**_1.6_** Find $P(Y=1|X=3)$. \n",
    "\n",
    "**_1.7_** Find $f_{X|Y=2}(x)$, the conditional pmf of $X$, given $Y=2$. \n",
    "\n",
    "**_1.8_** Find $E(X|Y=2)$ and $V(X|Y=2)$. "
   ]
  },
  {
   "cell_type": "markdown",
   "metadata": {
    "scrolled": true
   },
   "source": [
    "**_Solution 1.6_**\n"
   ]
  },
  {
   "cell_type": "markdown",
   "metadata": {},
   "source": [
    "$$ P(Y=1|X=3) = \\frac{P(Y=1,X=3)}{P(X=3)}=\\frac{.08}{.3}=0.2667 $$"
   ]
  },
  {
   "cell_type": "markdown",
   "metadata": {},
   "source": [
    "**_Solution 1.7_** "
   ]
  },
  {
   "cell_type": "markdown",
   "metadata": {},
   "source": [
    "| $X$ |$f_{X|Y}{(x)}$|\n",
    "|-----|-----|\n",
    "| 1 | 0.00 |\n",
    "| 2 | 0.50 |\n",
    "| 3 | 0.50 |"
   ]
  },
  {
   "cell_type": "markdown",
   "metadata": {},
   "source": [
    "** Solution 1.8 **\n",
    "\n",
    "$E(X|Y=2)=2*.1 + 3*.1=.5$\n",
    "\n",
    "$V(X|Y=2)=(2-.5)^2*.1+(3-.5)^2*.1=.85$"
   ]
  },
  {
   "cell_type": "markdown",
   "metadata": {},
   "source": [
    "**_1.9_** Are $X$ and $Y$ independent? Why or why not? "
   ]
  },
  {
   "cell_type": "markdown",
   "metadata": {},
   "source": [
    "**Solution 1.9** X and Y are not independent because, by definition, if they are, then $P(X|Y)=P(X)$. Looking at problem 1.6, $P(Y=1|X=3)=.2667$ and $P(Y=1)=.4$. Therefore, we conclude they are dependent. "
   ]
  },
  {
   "cell_type": "markdown",
   "metadata": {},
   "source": [
    "### Covariance and Correlation\n",
    "\n",
    "Expected value and variance help us characterize $X$ and $Y$ marginally and conditionally, but we may also be interested in measuring the relationship between $X$ and $Y$. For this, we use *covariance*. \n",
    "\n",
    "$$\n",
    "Cov(X,Y)=E[(X-E(X))(Y-E(Y))] = E(XY)-E(X)E(Y)\n",
    "$$\n",
    "\n",
    "Note that if $X$ and $Y$ are independent, $Cov(X,Y) =0$. The converse is NOT necessarily true. \n",
    "\n",
    "Covariance is dependent on the scales of $X$ and $Y$, so if the two variables are of vastly different scale, we'll want to use covariance's unitless counterpart, correlation, denoted by $\\rho$. \n",
    "\n",
    "$$\n",
    "\\rho = \\frac{Cov(X,Y)}{\\sqrt{Var(X)Var(Y)}}\n",
    "$$\n",
    "\n",
    "$\\rho$ is bounded by the interval $[-1,1]$. When $\\rho=1$, $X$ and $Y$ are perfectly positively correlated. Similarly, when $\\rho=-1$, $X$ and $Y$ are perfectly negatively correlated. "
   ]
  },
  {
   "cell_type": "markdown",
   "metadata": {},
   "source": [
    "**_1.10_** Find $Cov(X,Y)$\n",
    "\n",
    "**_1.11_** Find $Corr(X,Y)$, or $\\rho$. "
   ]
  },
  {
   "cell_type": "markdown",
   "metadata": {},
   "source": [
    "**Solution 1.10** Knowing, $Cov(X,Y)=E(XY)-E(X)E(Y)$"
   ]
  },
  {
   "cell_type": "code",
   "execution_count": 29,
   "metadata": {},
   "outputs": [
    {
     "name": "stdout",
     "output_type": "stream",
     "text": [
      "E(X)= 2.05\n",
      "E(Y)= 2.0\n",
      "E(XY)= 4.23\n",
      "Covariance(X,Y): 0.13000000000000078\n"
     ]
    }
   ],
   "source": [
    "ExpectedValueX=1*(0+.17+.08)+2*.45+3*(.08+.1+.12)\n",
    "ExpectedValueY=1*.4+2*.2+3*.4\n",
    "print('E(X)=',ExpectedValueX)\n",
    "print('E(Y)=',ExpectedValueY)\n",
    "#y=1\n",
    "\n",
    "ExpectedValueXY=1*(.17)+2*(.15+0)+3*(.08+.08)+4*(.10)+6*(.1+.2)+9*(.12)\n",
    "print('E(XY)=',ExpectedValueXY)\n",
    "print('Covariance(X,Y):',ExpectedValueXY-(ExpectedValueX*ExpectedValueY))"
   ]
  },
  {
   "cell_type": "markdown",
   "metadata": {},
   "source": [
    "**Solution 1.11 **"
   ]
  },
  {
   "cell_type": "markdown",
   "metadata": {},
   "source": [
    "$V(Y)=.8$ , $V(X)=(1-2.05)^2*.25+(2-2.05)^2*.45+(3-2.05)^2*.3=.5475$\n",
    "\n",
    "Therefore, $\\rho=\\frac{0.13}{\\sqrt{.8*.5475}}=.1964$"
   ]
  },
  {
   "cell_type": "markdown",
   "metadata": {},
   "source": [
    "In problem 1.2, we found $E(X+Y)$. In order to find $Var(X+Y)$, we need to know how $X$ and $Y$ are correlated: \n",
    "\n",
    "$$\n",
    "Var(X+Y)= Var(X)+Var(Y)+2*Cov(X,Y)\n",
    "$$"
   ]
  },
  {
   "cell_type": "markdown",
   "metadata": {},
   "source": [
    "**_1.12_** Find $Var(X+Y)$. "
   ]
  },
  {
   "cell_type": "markdown",
   "metadata": {},
   "source": [
    "$Var(X+Y)= Var(X)+Var(Y)+2*Cov(X,Y)=.5475+.8+2*(.13)=1.6075$"
   ]
  },
  {
   "cell_type": "markdown",
   "metadata": {},
   "source": [
    "#### Example 2: Continuous Joint Distribution\n",
    "\n",
    "All of the concepts above apply to continuous random variables. Consider continuous random variables $X$ and $Y$ with the following joint pdf:\n",
    "\n",
    "$$\n",
    "f_{X,Y}(x,y)=k(x+y)\n",
    "$$\n",
    "\n",
    "where both $x$ and $y$ are bounded by the interval $[0,1]$. "
   ]
  },
  {
   "cell_type": "markdown",
   "metadata": {},
   "source": [
    "**_2.1_** Find the value of $k$ that makes $f$ a valid joint pdf. "
   ]
  },
  {
   "cell_type": "markdown",
   "metadata": {},
   "source": [
    "** Solution 2.1** \n",
    "$$\\int_{0}^1 \\int_{0}^1 k(x+y) dx dy = 1 $$\n",
    "We find that:\n",
    "$$\\int_{0}^1 \\int_{0}^1 k(x+y) dx dy = k \\int_{0}^1 (\\frac{1}{2}+y) dy=k(\\frac{y}{2}+\\frac{y^2}{2}\\bigg|_{0}^{1})=k*1$$\n",
    "This implies that $k=1$"
   ]
  },
  {
   "cell_type": "markdown",
   "metadata": {},
   "source": [
    "**_2.2_** Find $P(X<0.5,Y<0.5)$"
   ]
  },
  {
   "cell_type": "markdown",
   "metadata": {},
   "source": [
    "**Solution 2.2**\n",
    "$$\\int_{0}^.5 \\int_{0}^.5 (x+y) dx dy =\\int_{0}^.5 (\\frac{1}{8}+\\frac{y}{2}) dy=\\frac{1}{8}$$"
   ]
  },
  {
   "cell_type": "markdown",
   "metadata": {},
   "source": [
    "**_2.3_** Find $f_X(x)$ and $f_Y(y)$, the marginal pdfs of $X$ and $Y$. \n",
    "\n",
    "**_2.4_** Find $E(X)$ and $E(Y)$. "
   ]
  },
  {
   "cell_type": "markdown",
   "metadata": {},
   "source": [
    "**Solution 2.3**\n",
    "\n",
    "$f_X{(x)}=\\int_{0}^1 (x+y)dy=x+\\frac{1}{2}$\n",
    "\n",
    "$f_Y{(y)}=\\int_{0}^1 (x+y)dx=y+\\frac{1}{2}$"
   ]
  },
  {
   "cell_type": "markdown",
   "metadata": {},
   "source": [
    "**Solution 2.4**\n",
    "\n",
    "$E(X)=\\int_{0}^1 x(x+1/2)dx=\\int_{0}^1 x^2+\\frac{x}{2} dx = \\frac{1}{3}+\\frac{1}{4}=\\frac{7}{12}$\n",
    "\n",
    "$E(Y)=\\int_{0}^1 y(y+1/2)dy=\\int_{0}^1 y^2+\\frac{y}{2} dy = \\frac{1}{3}+\\frac{1}{4}=\\frac{7}{12}$"
   ]
  },
  {
   "cell_type": "code",
   "execution_count": 42,
   "metadata": {},
   "outputs": [
    {
     "name": "stdout",
     "output_type": "stream",
     "text": [
      "E(X)= 0.5833333333333333 E(Y)= 0.5833333333333333\n"
     ]
    }
   ],
   "source": [
    "#And just a python scipy check of integration\n",
    "from scipy import integrate\n",
    "def pdfx(x):\n",
    "    return .5+x\n",
    "def pdfy(y):\n",
    "    return .5+y\n",
    "EX=integrate.quad(lambda x:pdfx(x)*x, 0, 1)[0]\n",
    "EY=integrate.quad(lambda y:pdfy(y)*y, 0, 1)[0]\n",
    "print('E(X)=', EX, 'E(Y)=', EY)"
   ]
  },
  {
   "cell_type": "markdown",
   "metadata": {},
   "source": [
    "**_2.5_** Find $P(X>0.5\\vert Y\\leq 0.5)$. "
   ]
  },
  {
   "cell_type": "markdown",
   "metadata": {},
   "source": [
    "**Solution 2.5 **\n",
    "$P(Y\\leq.5)=\\int_{0}^.5 y+\\frac{1}{2} dy=\\frac{3}{8}$\n",
    "\n",
    "$P(X>.5 , Y\\leq.5)=\\int_{.5}^1 \\int_{0}^.5 (x+y) dy dx=\\int_{.5}^1 \\frac{x}{2} +\\frac{1}{8} dx= \\frac{1}{4}$ \n",
    "\n",
    "Therefore\n",
    "$P(X>0.5\\vert Y\\leq 0.5)=\\frac{P(X>.5 , Y\\leq.5)}{P(Y\\leq.5)}=\\frac{\\frac{1}{4}}{\\frac{3}{8}}=\\frac{2}{3}$\n",
    "\n",
    "And for reference: $P(X>0.5)=\\int_{.5}^1 x+\\frac{1}{2} dx=\\frac{5}{8}$"
   ]
  },
  {
   "cell_type": "markdown",
   "metadata": {},
   "source": [
    "**_2.6_** Find the conditional distributions of $X|Y$ and $Y|X$. Recall that conditional distributions can be found by dividing the joint pdf by the relevant marginal pdf. \n",
    "\n",
    "**_2.7_** Find $E(X|Y)$ and $E(Y|X)$."
   ]
  },
  {
   "cell_type": "markdown",
   "metadata": {},
   "source": [
    "** Solution 2.6 **\n",
    "$$f_{X|Y}(x,y)=\\frac{(x+y)}{(y+\\frac{1}{2})}$$\n",
    "\n",
    "$$f_{Y|X}(x,y)=\\frac{(x+y)}{(x+\\frac{1}{2})}$$"
   ]
  },
  {
   "cell_type": "markdown",
   "metadata": {},
   "source": [
    "** Solution 2.7 ** \n",
    "\n",
    "$$E(X|Y)=\\int_{0}^1 y*\\int_{0}^1 \\frac{(x+y)}{(y+\\frac{1}{2})} dx dy=\\frac{1}{2}$$\n",
    "\n",
    "$$E(Y|X)=\\int_{0}^1 x*\\int_{0}^1 \\frac{(x+y)}{(x+\\frac{1}{2})} dy dx=\\frac{1}{2}$$"
   ]
  },
  {
   "cell_type": "markdown",
   "metadata": {},
   "source": [
    "**_2.8_** Are $X$ and $Y$ independent? "
   ]
  },
  {
   "cell_type": "markdown",
   "metadata": {},
   "source": [
    "**Solution 2.8 **\n",
    "\n",
    "Does P(X|Y)=P(X)? Look at problem 2.5: $P(X>0.5\\vert Y\\leq 0.5)=\\frac{2}{3}$, but, $P(X>0.5)=\\frac{5}{8}$. We conclude, they are dependent."
   ]
  },
  {
   "cell_type": "markdown",
   "metadata": {},
   "source": [
    "**_2.9_** What is $Cov(X,Y)$? "
   ]
  },
  {
   "cell_type": "markdown",
   "metadata": {},
   "source": [
    "$E(XY)-E(X)E(Y)=$$\\int_{0}^1 \\int_{0}^1 xy(x+y) dx dy-(\\frac{7}{12})^2 =\\frac{1}{3}-\\frac{49}{144}=\\frac{-1}{144}$"
   ]
  }
 ],
 "metadata": {
  "kernelspec": {
   "display_name": "Python 3",
   "language": "python",
   "name": "python3"
  },
  "language_info": {
   "codemirror_mode": {
    "name": "ipython",
    "version": 3
   },
   "file_extension": ".py",
   "mimetype": "text/x-python",
   "name": "python",
   "nbconvert_exporter": "python",
   "pygments_lexer": "ipython3",
   "version": "3.6.5"
  }
 },
 "nbformat": 4,
 "nbformat_minor": 2
}

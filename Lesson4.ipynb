{
 "cells": [
  {
   "cell_type": "markdown",
   "metadata": {},
   "source": [
    "### 1)\tCreate 3 variables for name (first and last), age and hometown. Assign to these variables your own name, age and hometown. Now, recreate the following sentence using variable assignment and the ‘print’ command in Python: \n",
    "\n",
    "#### “I am {Your name here}. I am {age} years old. I’m from {hometown}”\n",
    "\n",
    "##### a)\tNow, use a string method to make your name lower case. Print the all lower case version of your name. \n",
    "##### b)\tNow use a string method to make your full name a proper noun. Print this version of your name.\n",
    "\n",
    "#### 2)\tUsing the ‘replace’ method, replace all “I am” with “he is” or “she is” and all “I’m” with “he’s” or “she’s”. \n",
    "#### 3)\tReturn a boolean response indicating whether the length of your original sentence (in #1) is greater than your age plus 40. \n"
   ]
  },
  {
   "cell_type": "code",
   "execution_count": 2,
   "metadata": {},
   "outputs": [],
   "source": [
    "Name='Karl-Erik Van Hegewald'\n",
    "Age=21\n",
    "Hometown='Aurora CO' #Establish variables"
   ]
  },
  {
   "cell_type": "code",
   "execution_count": 3,
   "metadata": {},
   "outputs": [
    {
     "name": "stdout",
     "output_type": "stream",
     "text": [
      "I am Karl-Erik Van Hegewald. I am 21 years old. I'm from Aurora CO\n"
     ]
    }
   ],
   "source": [
    "String=\"I am %s. I am %d years old. I'm from %s\" % (Name,Age,Hometown) #there are multiple ways to do this, this one\n",
    "# saves the actual string which we will use later in 3). There is also the method such that we can concatenate the words. \n",
    "print(String)"
   ]
  },
  {
   "cell_type": "code",
   "execution_count": 4,
   "metadata": {},
   "outputs": [
    {
     "name": "stdout",
     "output_type": "stream",
     "text": [
      "karl-erik\n"
     ]
    }
   ],
   "source": [
    "# a) Now, use a string method to make your name lower case. Print the all lower case version of your name.\n",
    "LowerName=Name[0:9].lower() #function that makes it all lower case\n",
    "print(LowerName)"
   ]
  },
  {
   "cell_type": "code",
   "execution_count": 5,
   "metadata": {},
   "outputs": [
    {
     "name": "stdout",
     "output_type": "stream",
     "text": [
      "Karl-Erik\n"
     ]
    }
   ],
   "source": [
    "#b) Now use a string method to make your full name a proper noun. Print this version of your name.\n",
    "ProperName=LowerName.title() #Title is a function that capitalizes the beginning of each word\n",
    "print(ProperName) "
   ]
  },
  {
   "cell_type": "code",
   "execution_count": 6,
   "metadata": {},
   "outputs": [
    {
     "name": "stdout",
     "output_type": "stream",
     "text": [
      "he is Karl-Erik Van Hegewald. he is 21 years old. he's from Aurora CO\n"
     ]
    }
   ],
   "source": [
    "# 2) Using the ‘replace’ method, replace all “I am” with “he is” or “she is” and all “I’m” with “he’s” or “she’s”.\n",
    "ReplaceString=String.replace('I am','he is').replace(\"I'm\",\"he's\")\n",
    "print(ReplaceString)"
   ]
  },
  {
   "cell_type": "code",
   "execution_count": 7,
   "metadata": {},
   "outputs": [
    {
     "data": {
      "text/plain": [
       "True"
      ]
     },
     "execution_count": 7,
     "metadata": {},
     "output_type": "execute_result"
    }
   ],
   "source": [
    "#3) Return a boolean response indicating whether the length of your original sentence (in #1) is greater than your age plus 40.\n",
    "len(String)>(Age+40) #len() is function which takes the length of the string."
   ]
  },
  {
   "cell_type": "code",
   "execution_count": null,
   "metadata": {},
   "outputs": [],
   "source": []
  }
 ],
 "metadata": {
  "kernelspec": {
   "display_name": "Python 3",
   "language": "python",
   "name": "python3"
  },
  "language_info": {
   "codemirror_mode": {
    "name": "ipython",
    "version": 3
   },
   "file_extension": ".py",
   "mimetype": "text/x-python",
   "name": "python",
   "nbconvert_exporter": "python",
   "pygments_lexer": "ipython3",
   "version": "3.6.5"
  }
 },
 "nbformat": 4,
 "nbformat_minor": 2
}

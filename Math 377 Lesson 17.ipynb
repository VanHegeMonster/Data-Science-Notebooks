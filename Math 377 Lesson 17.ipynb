{
 "cells": [
  {
   "cell_type": "code",
   "execution_count": 3,
   "metadata": {},
   "outputs": [],
   "source": [
    "from datascience import *\n",
    "import numpy as np\n",
    "from math import *"
   ]
  },
  {
   "cell_type": "markdown",
   "metadata": {},
   "source": [
    "## Transformations"
   ]
  },
  {
   "cell_type": "markdown",
   "metadata": {},
   "source": [
    "In some cases, we may be interested in the distribution of a transformation of a random variable. For example, if we know the distribution of $X$, we may wish to know the distribution of $X^2$ or $2X$. \n",
    "\n",
    "It helps to consider the pmf/cdf of the original random variables. Let $Y=t(X)$ where $X$ is discrete:\n",
    "\n",
    "$$\n",
    "f_Y(y)=P(Y=y) = P(t(X)=y) = P( X = t^{-1}(y))\n",
    "$$\n",
    "\n",
    "In the continuous case, let's consider the cdf:\n",
    "\n",
    "$$\n",
    "F_Y(y)=P(Y\\leq y) = P(t(X)\\leq y) = P(X \\leq t^{-1}(y)) = F_X(t^{-1}(y))\n",
    "$$"
   ]
  },
  {
   "cell_type": "markdown",
   "metadata": {},
   "source": [
    "### Discrete"
   ]
  },
  {
   "cell_type": "markdown",
   "metadata": {},
   "source": [
    "#### Example 1\n",
    "\n",
    "Suppose the pmf for $X$ is given by the following table: \n",
    "\n",
    " | value of $X$  | -2 | -1 | 0 | 1 | 2 | \n",
    " | ------ | ------ | ----- | ----- | ----- | ----- |\n",
    " | probability | 0.05 | 0.10 | 0.35 | 0.30 | 0.20 |\n",
    "\n",
    "Find the distribution of $X^2$ and calculate $E(X^2)$. Does $E(X^2) = [E(X)]^2$? "
   ]
  },
  {
   "cell_type": "markdown",
   "metadata": {},
   "source": [
    "The thing to consider above it that $t(X)$ is like t is the image of X. In this case:\n",
    "\n",
    "$F_X (x)=P(X^2=x)=P(X=\\sqrt{x})=F_Y (\\sqrt{x})+F_Y (-\\sqrt{x})$, So the distribution of X^2 is:\n",
    "\n",
    " | value of $X^2$  | 0 | 1 | 4 | | \n",
    " | ------ | ------ | ----- | ----- |\n",
    " | probability | 0.35 | 0.40 | 0.25 |\n",
    "\n",
    "An example calculation is $P(X^2=4)=P(X=\\sqrt{4})+P(X=-\\sqrt{4})=P(X=2)+P(X=-2)=.05+.20=.25$"
   ]
  },
  {
   "cell_type": "markdown",
   "metadata": {},
   "source": [
    "Finding the expected value of $X^2$:\n",
    "$E(X^2)=1.4$;\n",
    "comparatively, $E(X)=.5$ so we note that $E(X^2) \\neq [E(X)]^2$"
   ]
  },
  {
   "cell_type": "markdown",
   "metadata": {},
   "source": [
    "#### Example 2\n",
    "Let $X \\sim \\textsf{Binom}(n,p)$. What is the pmf for $X+3$? Make sure you specify the domain of $X+3$. "
   ]
  },
  {
   "cell_type": "markdown",
   "metadata": {},
   "source": [
    "Recall the definition of a binomial distribution is: $$f(x;n,p) = {n\\choose x}p^{x}(1-p)^{n-x}$$\n",
    "\n",
    "So, based from above, if $Y=X+3$, $$P(Y=x)=P(X+3=x)=P(X=x-3)={n\\choose x-3}p^{x-3}(1-p)^{n-x-3}$$\n",
    "\n",
    "The domain of the X+3 transform is $\\{X+3\\}\\cap \\{X\\}$. For example, from our table: $\\{X+3\\}=\\{1,2,3,4,5\\}$ and $\\{X\\}=\\{-2,-1,0,1,2\\}$ so, the domain of $X+3=\\{1,2,3,4,5\\} \\cap \\{-2,-1,0,1,2\\}=\\{1,2\\}$\n"
   ]
  },
  {
   "cell_type": "markdown",
   "metadata": {},
   "source": [
    "#### Example 3\n",
    "\n",
    "Let $X \\sim \\textsf{Unif}(0,1)$. Let $Y=X^2$. Find the **pdf** of $Y$. Again, specify the domain of $Y$. "
   ]
  },
  {
   "cell_type": "markdown",
   "metadata": {},
   "source": [
    "Recall for a uniform distribution we have $P(X\\leq x)=x$ for $x\\in [0,1]$. Therefore, $P(Y \\leq x)=P(X^2 \\leq x)=P(X\\leq \\sqrt{x})+P(X\\leq -\\sqrt{x})$ but since we have no negative $x$ values, $P(X^2 \\leq x)=P(X\\leq \\sqrt{x})$. \n",
    "We continue, \n",
    "\n",
    "$P(X\\leq \\sqrt{x})=F_X(g^{-1} (y))$. The density function, if $F_X(g^{-1} (y))=\\int_0^1 g^{-1} (y) dy$, is the derivative of $F_X(g^{-1} (y))$. This gives us: $f_Y (y)=F_Y ^\\prime=\\frac{d}{dy}F_X(g^{-1} (y))=f_X(g^{-1} (y))\\frac{d}{dy} g^{-1} (y)$.\n",
    "$$f_X(g^{-1} (y))\\frac{d}{dy} g^{-1} (y)=1*\\frac{d}{dy}\\sqrt{y}=\\frac{1}{2\\sqrt{y}}$$\n",
    "\n",
    "The domain, has changed to $y\\in(0,1]$."
   ]
  },
  {
   "cell_type": "markdown",
   "metadata": {},
   "source": [
    "## Moment Generating Functions (MGF)"
   ]
  },
  {
   "cell_type": "markdown",
   "metadata": {},
   "source": [
    "One powerful concept in probability is the moment generating function (mgf). Let $X$ be a random variable. The mgf of $X$ is denoted by $M_X(t)$. This function is powerful because it can be used as a shortcut to find the $k$th central moment. Specifically,\n",
    "\n",
    "$$\n",
    "E(X^k) = \\frac{d^k}{dt^k} M_X(t) \\bigg |_{t=0}\n",
    "$$\n",
    "\n",
    "If you know the moment generating function of $X$, you can simply take the derivative of it with respect to $t$, evaluate at $t=0$ and the result is the expected value of $X$, $E(X)$. \n",
    "\n",
    "The mgf of $X$ is found by\n",
    "\n",
    "$$\n",
    "M_X(t) = E(e^{tX})\n",
    "$$\n",
    "\n",
    "#### Example 4: \n",
    "\n",
    "Let $X$ be a random variable with the exponential distribution with parameter $\\lambda >0$. Recall that $f_X(x) = \\lambda e^{-\\lambda x}$, for $x>0$. Find the mgf of $X$. Use it to verify that $E(X) = \\frac{1}{\\lambda}$. \n",
    "\n"
   ]
  },
  {
   "cell_type": "markdown",
   "metadata": {},
   "source": [
    "Expected value of $e^{tX}$, recall $E(X)=\\int_x x*f_X (x) d x$, therefore, $$E(e^{tX})=\\int_x e^{tX}*f_X (x) dx=\\int_0^\\infty e^{tx}*\\lambda e^{-\\lambda x}dx=\\int_0^\\infty \\lambda e^{(t-\\lambda) x}dx=\\lambda \\frac{e^{(t-\\lambda) x}}{t-\\lambda } \\bigg|_0^\\infty = 0-\\frac{\\lambda}{(t-\\lambda)}=\\frac{\\lambda}{(\\lambda-t)}$$"
   ]
  },
  {
   "cell_type": "markdown",
   "metadata": {},
   "source": [
    "Note that for the last part in that integral, we said $\\lambda \\frac{e^{(t-\\lambda) x}}{t-\\lambda }$ evaluated at $x=\\infty$ yields 0. We assumed that $t\\leq \\lambda$ since otherwise we would not obtain a closed form solution and it would explode to infinity. "
   ]
  },
  {
   "cell_type": "markdown",
   "metadata": {},
   "source": [
    "For $E(X)=\\frac{1}{\\lambda}$, take the first derivative of our mgf, that is: $$\\frac{d}{dt}\\frac{\\lambda}{(\\lambda-t)}\\bigg|_{t=0}=\\frac{d}{dt}\\lambda(\\lambda-t)^{-1}\\bigg|_{t=0}=\\lambda(\\lambda-t)^{-2}\\bigg|_{t=0}=\\frac{\\lambda}{\\lambda^2}=\\frac{1}{\\lambda}$$"
   ]
  },
  {
   "cell_type": "markdown",
   "metadata": {},
   "source": [
    "#### Example 5:\n",
    "\n",
    "The moment generating function of a random variable with the binomial distribution (with parameters $n$ and $p$) is given by $M_X(t) = (pe^t + 1 - p)^n$. Use the mgf to verify that $E(X)=np$ and $V(X)=np(1-p)$. Note that $V(X)=E(X^2)-[E(X)]^2$. "
   ]
  },
  {
   "cell_type": "markdown",
   "metadata": {},
   "source": [
    "$E(X)=\\frac{d}{dt}(pe^t + 1 - p)^n\\bigg|_{t=0}=np(p + 1 - p)^{n-1}=np(1)^{n-1}=np$"
   ]
  },
  {
   "cell_type": "markdown",
   "metadata": {},
   "source": [
    "$E(X^2)=\\frac{d^2}{dt^2}(pe^t + 1 - p)^n\\bigg|_{t=0}=npe^t(pe^t - p + 1)^{n - 1} + np^2 e^{2t}(n - 1)(pe^{t} - p + 1)^{n - 2}\\bigg|_{t=0}=np+np^2(n-1)$\n",
    "Therefore, $V(X)=np+np^2(n-1)-(np)^2=np+(np)^2-np^2-(np)^2=np-np^2=np(1-p)$"
   ]
  },
  {
   "cell_type": "markdown",
   "metadata": {},
   "source": [
    "### Important Results\n",
    "\n",
    "1) Let $X$ and $Y$ be random variables with mgfs $M_X$ and $M_Y$. $X$ and $Y$ are said to be identically distributed if and only if $M_X(t) = M_Y(t)$ for all $t$ in som interval containing 0. \n",
    "\n",
    "2) MGF of linear transformation of random variable: If $a$ and $b$ are constants, then \n",
    "\n",
    "$$\n",
    "M_{aX+b}(t) = e^{bt}M_X(at)\n",
    "$$\n",
    "\n",
    "3) MGF of sum of independent random variables: If $X$ and $Y$ are independent random variables with mgfs $M_X$ and $M_Y$, then\n",
    "\n",
    "$$\n",
    "M_{X+Y}(t)=M_X(t) \\cdot M_Y(t)\n",
    "$$\n",
    "\n",
    " "
   ]
  },
  {
   "cell_type": "markdown",
   "metadata": {},
   "source": [
    "#### Example 6 \n",
    "\n",
    "Let $X \\sim \\textsf{Exp}(\\lambda)$. Find the distribution of $Y=3X$."
   ]
  },
  {
   "cell_type": "markdown",
   "metadata": {},
   "source": [
    "Recall our transformation techniques:\n",
    "$$\n",
    "F_Y(y)=P(Y\\leq y) = P(3(X)\\leq y) = P(X \\leq t^{-1}(y)) = F_X(\\frac{y}{3})\n",
    "$$"
   ]
  },
  {
   "cell_type": "markdown",
   "metadata": {},
   "source": [
    "$$ F_{X}(y/3) = P(X \\leq y/3) = \\int_{0}^{y/3} \\lambda e^{-\\lambda x}dx=1-e^{-\\lambda \\frac{y}{3}}$$"
   ]
  },
  {
   "cell_type": "markdown",
   "metadata": {},
   "source": [
    "Below is a cool property, but not necessary."
   ]
  },
  {
   "cell_type": "markdown",
   "metadata": {},
   "source": [
    "Using our mgf, we find that $M_{3X}(t)=M_{X}(3t)=\\frac{\\lambda}{(\\lambda-3t)}$ \n",
    "\n",
    "and\n",
    "$$\n",
    "E(3X) = \\frac{d}{dt} M_X(3t) \\bigg |_{t=0}=\\frac{d}{dt}\\int_0^\\infty \\lambda e^{(3t-\\lambda) x}dx \\bigg |_{t=0}=\\frac{d}{dt}\\lambda \\frac{e^{(3t-\\lambda) x}}{3t-\\lambda } \\bigg|_0^\\infty \\bigg |_{t=0}=\\frac{d}{dt} \\frac{\\lambda}{(\\lambda-3t)} \\bigg |_{t=0}=3\\lambda(\\lambda -3t)^{-2} \\bigg |_{t=0}=\\frac{3}{\\lambda}\n",
    "$$\n",
    "\n",
    "There exists an identity out there such that, $P(X\\leq a)=e^{-at}M_X(t)$ -yes I got this from the moment-generating function wikipedia page. Comparing to above, we proceed with $P(X\\leq y/3)=e^{-yt/3}M_X(3t)=e^{-yt/3}\\frac{\\lambda}{(\\lambda-3t)}$"
   ]
  },
  {
   "cell_type": "markdown",
   "metadata": {},
   "source": [
    "#### Example 7 \n",
    "\n",
    "Suppose $X_1, X_2, ..., X_n$ are independent identically distributed $\\textsf{Norm}(\\mu,\\sigma)$. Find the distribution of $S=X_1+X_2+...+X_n$ and $\\bar{X} = \\frac{X_1+X_2+...+X_n}{n}$. Note that the mgf of a normally distributed random variable is $M_X(t)=e^{\\mu t+\\sigma^2 t^2/2}$."
   ]
  },
  {
   "cell_type": "markdown",
   "metadata": {},
   "source": [
    "$M_S (t)=M_{X_1}(t)M_{X_2}(t)...M_{X_n}(t)\\Rightarrow Norm(\\mu n,\\sqrt{\\sigma^2 n})$"
   ]
  },
  {
   "cell_type": "markdown",
   "metadata": {},
   "source": [
    "Similarly, when given $\\bar{X}$, the distribution is $Norm(\\mu,\\frac{\\sqrt{\\sigma^2 n}}{n})$"
   ]
  }
 ],
 "metadata": {
  "kernelspec": {
   "display_name": "Python 3",
   "language": "python",
   "name": "python3"
  },
  "language_info": {
   "codemirror_mode": {
    "name": "ipython",
    "version": 3
   },
   "file_extension": ".py",
   "mimetype": "text/x-python",
   "name": "python",
   "nbconvert_exporter": "python",
   "pygments_lexer": "ipython3",
   "version": "3.6.5"
  }
 },
 "nbformat": 4,
 "nbformat_minor": 2
}
